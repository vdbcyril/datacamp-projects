{
 "cells": [
  {
   "cell_type": "markdown",
   "metadata": {
    "dc": {
     "key": "3"
    },
    "deletable": false,
    "editable": false,
    "run_control": {
     "frozen": true
    },
    "tags": [
     "context"
    ]
   },
   "source": [
    "## 1. The NIST Special Publication 800-63B\n",
    "<p>If you – 50 years ago – needed to come up with a secret password you were probably part of a secret espionage organization or (more likely) you were pretending to be a spy when playing as a kid. Today, many of us are forced to come up with new passwords <em>all the time</em> when signing into sites and apps. As a password <em>inventeur</em> it is your responsibility to come up with good, hard-to-crack passwords. But it is also in the interest of sites and apps to make sure that you use good passwords. The problem is that it's really hard to define what makes a good password. However, <em>the National Institute of Standards and Technology</em> (NIST) knows what the second best thing is: To make sure you're at least not using a <em>bad</em> password. </p>\n",
    "<p>In this notebook, we will go through the rules in <a href=\"https://pages.nist.gov/800-63-3/sp800-63b.html\">NIST Special Publication 800-63B</a> which details what checks a <em>verifier</em> (what the NIST calls a second party responsible for storing and verifying passwords) should perform to make sure users don't pick bad passwords. We will go through the passwords of users from a fictional company and use R to flag the users with bad passwords. But us being able to do this already means the fictional company is breaking one of the rules of 800-63B:</p>\n",
    "<blockquote>\n",
    "  <p>Verifiers SHALL store memorized secrets in a form that is resistant to offline attacks. Memorized secrets SHALL be salted and hashed using a suitable one-way key derivation function.</p>\n",
    "</blockquote>\n",
    "<p>That is, never save users' passwords in plaintext, always encrypt the passwords! Keeping this in mind for the next time we're building a password management system, let's load in the data.</p>\n",
    "<p><em>Warning: The list of passwords and the fictional user database both contain <strong>real</strong> passwords leaked from <strong>real</strong> websites. These passwords have not been filtered in any way and include words that are explicit, derogatory and offensive.</em></p>"
   ]
  },
  {
   "cell_type": "code",
   "execution_count": 1,
   "metadata": {
    "dc": {
     "key": "3"
    },
    "tags": [
     "sample_code"
    ]
   },
   "outputs": [
    {
     "name": "stderr",
     "output_type": "stream",
     "text": [
      "-- Attaching packages --------------------------------------- tidyverse 1.2.1 --\n",
      "<U+221A> ggplot2 2.2.1     <U+221A> purrr   0.2.4\n",
      "<U+221A> tibble  1.4.2     <U+221A> dplyr   0.7.4\n",
      "<U+221A> tidyr   0.8.0     <U+221A> stringr 1.2.0\n",
      "<U+221A> readr   1.1.1     <U+221A> forcats 0.2.0\n",
      "-- Conflicts ------------------------------------------ tidyverse_conflicts() --\n",
      "x dplyr::filter() masks stats::filter()\n",
      "x dplyr::lag()    masks stats::lag()\n",
      "Parsed with column specification:\n",
      "cols(\n",
      "  id = col_integer(),\n",
      "  user_name = col_character(),\n",
      "  password = col_character()\n",
      ")\n"
     ]
    },
    {
     "data": {
      "text/html": [
       "982"
      ],
      "text/latex": [
       "982"
      ],
      "text/markdown": [
       "982"
      ],
      "text/plain": [
       "[1] 982"
      ]
     },
     "metadata": {},
     "output_type": "display_data"
    },
    {
     "data": {
      "text/html": [
       "<table>\n",
       "<thead><tr><th scope=col>id</th><th scope=col>user_name</th><th scope=col>password</th></tr></thead>\n",
       "<tbody>\n",
       "\t<tr><td> 1              </td><td>vance.jennings  </td><td>joobheco        </td></tr>\n",
       "\t<tr><td> 2              </td><td>consuelo.eaton  </td><td>0869347314      </td></tr>\n",
       "\t<tr><td> 3              </td><td>mitchel.perkins </td><td>fabypotter      </td></tr>\n",
       "\t<tr><td> 4              </td><td>odessa.vaughan  </td><td>aharney88       </td></tr>\n",
       "\t<tr><td> 5              </td><td>araceli.wilder  </td><td>acecdn3000      </td></tr>\n",
       "\t<tr><td> 6              </td><td>shawn.harrington</td><td>5278049         </td></tr>\n",
       "\t<tr><td> 7              </td><td>evelyn.gay      </td><td>master          </td></tr>\n",
       "\t<tr><td> 8              </td><td>noreen.hale     </td><td>murphy          </td></tr>\n",
       "\t<tr><td> 9              </td><td>gladys.ward     </td><td>lwsves2         </td></tr>\n",
       "\t<tr><td>10              </td><td>brant.zimmerman </td><td>1190KAREN5572497</td></tr>\n",
       "\t<tr><td>11              </td><td>leanna.abbott   </td><td>aivlys24        </td></tr>\n",
       "\t<tr><td>12              </td><td>milford.hubbard </td><td>hubbard         </td></tr>\n",
       "</tbody>\n",
       "</table>\n"
      ],
      "text/latex": [
       "\\begin{tabular}{r|lll}\n",
       " id & user\\_name & password\\\\\n",
       "\\hline\n",
       "\t  1               & vance.jennings   & joobheco        \\\\\n",
       "\t  2               & consuelo.eaton   & 0869347314      \\\\\n",
       "\t  3               & mitchel.perkins  & fabypotter      \\\\\n",
       "\t  4               & odessa.vaughan   & aharney88       \\\\\n",
       "\t  5               & araceli.wilder   & acecdn3000      \\\\\n",
       "\t  6               & shawn.harrington & 5278049         \\\\\n",
       "\t  7               & evelyn.gay       & master          \\\\\n",
       "\t  8               & noreen.hale      & murphy          \\\\\n",
       "\t  9               & gladys.ward      & lwsves2         \\\\\n",
       "\t 10               & brant.zimmerman  & 1190KAREN5572497\\\\\n",
       "\t 11               & leanna.abbott    & aivlys24        \\\\\n",
       "\t 12               & milford.hubbard  & hubbard         \\\\\n",
       "\\end{tabular}\n"
      ],
      "text/markdown": [
       "\n",
       "id | user_name | password | \n",
       "|---|---|---|---|---|---|---|---|---|---|---|---|\n",
       "|  1               | vance.jennings   | joobheco         | \n",
       "|  2               | consuelo.eaton   | 0869347314       | \n",
       "|  3               | mitchel.perkins  | fabypotter       | \n",
       "|  4               | odessa.vaughan   | aharney88        | \n",
       "|  5               | araceli.wilder   | acecdn3000       | \n",
       "|  6               | shawn.harrington | 5278049          | \n",
       "|  7               | evelyn.gay       | master           | \n",
       "|  8               | noreen.hale      | murphy           | \n",
       "|  9               | gladys.ward      | lwsves2          | \n",
       "| 10               | brant.zimmerman  | 1190KAREN5572497 | \n",
       "| 11               | leanna.abbott    | aivlys24         | \n",
       "| 12               | milford.hubbard  | hubbard          | \n",
       "\n",
       "\n"
      ],
      "text/plain": [
       "   id user_name        password        \n",
       "1   1 vance.jennings   joobheco        \n",
       "2   2 consuelo.eaton   0869347314      \n",
       "3   3 mitchel.perkins  fabypotter      \n",
       "4   4 odessa.vaughan   aharney88       \n",
       "5   5 araceli.wilder   acecdn3000      \n",
       "6   6 shawn.harrington 5278049         \n",
       "7   7 evelyn.gay       master          \n",
       "8   8 noreen.hale      murphy          \n",
       "9   9 gladys.ward      lwsves2         \n",
       "10 10 brant.zimmerman  1190KAREN5572497\n",
       "11 11 leanna.abbott    aivlys24        \n",
       "12 12 milford.hubbard  hubbard         "
      ]
     },
     "metadata": {},
     "output_type": "display_data"
    }
   ],
   "source": [
    "# Importing the tidyverse library\n",
    "library(tidyverse)\n",
    "\n",
    "# Loading in datasets/users.csv \n",
    "users <- read_csv(\"datasets/users.csv\")\n",
    "\n",
    "# Counting how many users we've got\n",
    "nrow(users)\n",
    "\n",
    "# Taking a look at the 12 first users\n",
    "head(users, n = 12)"
   ]
  },
  {
   "cell_type": "markdown",
   "metadata": {
    "dc": {
     "key": "10"
    },
    "deletable": false,
    "editable": false,
    "run_control": {
     "frozen": true
    },
    "tags": [
     "context"
    ]
   },
   "source": [
    "## 2. Passwords should not be too short\n",
    "<p>If we take a look at the first 12 users above we already see some bad passwords. But let's not get ahead of ourselves and start flagging passwords <em>manually</em>. What is the first thing we should check according to the NIST Special Publication 800-63B?</p>\n",
    "<blockquote>\n",
    "  <p>Verifiers SHALL require subscriber-chosen memorized secrets to be at least 8 characters in length.</p>\n",
    "</blockquote>\n",
    "<p>Ok, so the passwords of our users shouldn't be too short. Let's start by checking that!</p>"
   ]
  },
  {
   "cell_type": "code",
   "execution_count": 2,
   "metadata": {
    "dc": {
     "key": "10"
    },
    "tags": [
     "sample_code"
    ]
   },
   "outputs": [
    {
     "data": {
      "text/html": [
       "376"
      ],
      "text/latex": [
       "376"
      ],
      "text/markdown": [
       "376"
      ],
      "text/plain": [
       "[1] 376"
      ]
     },
     "metadata": {},
     "output_type": "display_data"
    },
    {
     "data": {
      "text/html": [
       "<table>\n",
       "<thead><tr><th scope=col>id</th><th scope=col>user_name</th><th scope=col>password</th><th scope=col>length</th><th scope=col>too_short</th></tr></thead>\n",
       "<tbody>\n",
       "\t<tr><td> 1              </td><td>vance.jennings  </td><td>joobheco        </td><td> 8              </td><td>FALSE           </td></tr>\n",
       "\t<tr><td> 2              </td><td>consuelo.eaton  </td><td>0869347314      </td><td>10              </td><td>FALSE           </td></tr>\n",
       "\t<tr><td> 3              </td><td>mitchel.perkins </td><td>fabypotter      </td><td>10              </td><td>FALSE           </td></tr>\n",
       "\t<tr><td> 4              </td><td>odessa.vaughan  </td><td>aharney88       </td><td> 9              </td><td>FALSE           </td></tr>\n",
       "\t<tr><td> 5              </td><td>araceli.wilder  </td><td>acecdn3000      </td><td>10              </td><td>FALSE           </td></tr>\n",
       "\t<tr><td> 6              </td><td>shawn.harrington</td><td>5278049         </td><td> 7              </td><td> TRUE           </td></tr>\n",
       "\t<tr><td> 7              </td><td>evelyn.gay      </td><td>master          </td><td> 6              </td><td> TRUE           </td></tr>\n",
       "\t<tr><td> 8              </td><td>noreen.hale     </td><td>murphy          </td><td> 6              </td><td> TRUE           </td></tr>\n",
       "\t<tr><td> 9              </td><td>gladys.ward     </td><td>lwsves2         </td><td> 7              </td><td> TRUE           </td></tr>\n",
       "\t<tr><td>10              </td><td>brant.zimmerman </td><td>1190KAREN5572497</td><td>16              </td><td>FALSE           </td></tr>\n",
       "\t<tr><td>11              </td><td>leanna.abbott   </td><td>aivlys24        </td><td> 8              </td><td>FALSE           </td></tr>\n",
       "\t<tr><td>12              </td><td>milford.hubbard </td><td>hubbard         </td><td> 7              </td><td> TRUE           </td></tr>\n",
       "</tbody>\n",
       "</table>\n"
      ],
      "text/latex": [
       "\\begin{tabular}{r|lllll}\n",
       " id & user\\_name & password & length & too\\_short\\\\\n",
       "\\hline\n",
       "\t  1               & vance.jennings   & joobheco         &  8               & FALSE           \\\\\n",
       "\t  2               & consuelo.eaton   & 0869347314       & 10               & FALSE           \\\\\n",
       "\t  3               & mitchel.perkins  & fabypotter       & 10               & FALSE           \\\\\n",
       "\t  4               & odessa.vaughan   & aharney88        &  9               & FALSE           \\\\\n",
       "\t  5               & araceli.wilder   & acecdn3000       & 10               & FALSE           \\\\\n",
       "\t  6               & shawn.harrington & 5278049          &  7               &  TRUE           \\\\\n",
       "\t  7               & evelyn.gay       & master           &  6               &  TRUE           \\\\\n",
       "\t  8               & noreen.hale      & murphy           &  6               &  TRUE           \\\\\n",
       "\t  9               & gladys.ward      & lwsves2          &  7               &  TRUE           \\\\\n",
       "\t 10               & brant.zimmerman  & 1190KAREN5572497 & 16               & FALSE           \\\\\n",
       "\t 11               & leanna.abbott    & aivlys24         &  8               & FALSE           \\\\\n",
       "\t 12               & milford.hubbard  & hubbard          &  7               &  TRUE           \\\\\n",
       "\\end{tabular}\n"
      ],
      "text/markdown": [
       "\n",
       "id | user_name | password | length | too_short | \n",
       "|---|---|---|---|---|---|---|---|---|---|---|---|\n",
       "|  1               | vance.jennings   | joobheco         |  8               | FALSE            | \n",
       "|  2               | consuelo.eaton   | 0869347314       | 10               | FALSE            | \n",
       "|  3               | mitchel.perkins  | fabypotter       | 10               | FALSE            | \n",
       "|  4               | odessa.vaughan   | aharney88        |  9               | FALSE            | \n",
       "|  5               | araceli.wilder   | acecdn3000       | 10               | FALSE            | \n",
       "|  6               | shawn.harrington | 5278049          |  7               |  TRUE            | \n",
       "|  7               | evelyn.gay       | master           |  6               |  TRUE            | \n",
       "|  8               | noreen.hale      | murphy           |  6               |  TRUE            | \n",
       "|  9               | gladys.ward      | lwsves2          |  7               |  TRUE            | \n",
       "| 10               | brant.zimmerman  | 1190KAREN5572497 | 16               | FALSE            | \n",
       "| 11               | leanna.abbott    | aivlys24         |  8               | FALSE            | \n",
       "| 12               | milford.hubbard  | hubbard          |  7               |  TRUE            | \n",
       "\n",
       "\n"
      ],
      "text/plain": [
       "   id user_name        password         length too_short\n",
       "1   1 vance.jennings   joobheco          8     FALSE    \n",
       "2   2 consuelo.eaton   0869347314       10     FALSE    \n",
       "3   3 mitchel.perkins  fabypotter       10     FALSE    \n",
       "4   4 odessa.vaughan   aharney88         9     FALSE    \n",
       "5   5 araceli.wilder   acecdn3000       10     FALSE    \n",
       "6   6 shawn.harrington 5278049           7      TRUE    \n",
       "7   7 evelyn.gay       master            6      TRUE    \n",
       "8   8 noreen.hale      murphy            6      TRUE    \n",
       "9   9 gladys.ward      lwsves2           7      TRUE    \n",
       "10 10 brant.zimmerman  1190KAREN5572497 16     FALSE    \n",
       "11 11 leanna.abbott    aivlys24          8     FALSE    \n",
       "12 12 milford.hubbard  hubbard           7      TRUE    "
      ]
     },
     "metadata": {},
     "output_type": "display_data"
    }
   ],
   "source": [
    "# Calculating the lengths of users' passwords\n",
    "users$length <- str_length(users$password)\n",
    "\n",
    "# Flagging the users with too short passwords\n",
    "users$too_short <- users$length < 8\n",
    "\n",
    "# Counting the number of users with too short passwords\n",
    "sum(users$too_short)\n",
    "\n",
    "# Taking a look at the 12 first rows\n",
    "head(users, n = 12)"
   ]
  },
  {
   "cell_type": "markdown",
   "metadata": {
    "dc": {
     "key": "17"
    },
    "deletable": false,
    "editable": false,
    "run_control": {
     "frozen": true
    },
    "tags": [
     "context"
    ]
   },
   "source": [
    "## 3.  Common passwords people use\n",
    "<p>Already this simple rule flagged a couple of offenders among the first 12 users. Next up in Special Publication 800-63B is the rule that</p>\n",
    "<blockquote>\n",
    "  <p>verifiers SHALL compare the prospective secrets against a list that contains values known to be commonly-used, expected, or compromised.</p>\n",
    "  <ul>\n",
    "  <li>Passwords obtained from previous breach corpuses.</li>\n",
    "  <li>Dictionary words.</li>\n",
    "  <li>Repetitive or sequential characters (e.g. ‘aaaaaa’, ‘1234abcd’).</li>\n",
    "  <li>Context-specific words, such as the name of the service, the username, and derivatives thereof.</li>\n",
    "  </ul>\n",
    "</blockquote>\n",
    "<p>We're going to check these in order and start with <em>Passwords obtained from previous breach corpuses</em>, that is, websites where hackers have leaked all the users' passwords. As many websites don't follow the NIST guidelines and encrypt passwords there now exist large lists of the most popular passwords. Let's start by loading in the 10,000 most common passwords which I've taken from <a href=\"https://github.com/danielmiessler/SecLists/tree/master/Passwords\">here</a>.</p>"
   ]
  },
  {
   "cell_type": "code",
   "execution_count": 3,
   "metadata": {
    "dc": {
     "key": "17"
    },
    "tags": [
     "sample_code"
    ]
   },
   "outputs": [
    {
     "data": {
      "text/html": [
       "<ol class=list-inline>\n",
       "\t<li>'123456'</li>\n",
       "\t<li>'password'</li>\n",
       "\t<li>'12345678'</li>\n",
       "\t<li>'qwerty'</li>\n",
       "\t<li>'123456789'</li>\n",
       "\t<li>'12345'</li>\n",
       "\t<li>'1234'</li>\n",
       "\t<li>'111111'</li>\n",
       "\t<li>'1234567'</li>\n",
       "\t<li>'dragon'</li>\n",
       "\t<li>'123123'</li>\n",
       "\t<li>'baseball'</li>\n",
       "\t<li>'abc123'</li>\n",
       "\t<li>'football'</li>\n",
       "\t<li>'monkey'</li>\n",
       "\t<li>'letmein'</li>\n",
       "\t<li>'696969'</li>\n",
       "\t<li>'shadow'</li>\n",
       "\t<li>'master'</li>\n",
       "\t<li>'666666'</li>\n",
       "\t<li>'qwertyuiop'</li>\n",
       "\t<li>'123321'</li>\n",
       "\t<li>'mustang'</li>\n",
       "\t<li>'1234567890'</li>\n",
       "\t<li>'michael'</li>\n",
       "\t<li>'654321'</li>\n",
       "\t<li>'pussy'</li>\n",
       "\t<li>'superman'</li>\n",
       "\t<li>'1qaz2wsx'</li>\n",
       "\t<li>'7777777'</li>\n",
       "\t<li>'fuckyou'</li>\n",
       "\t<li>'121212'</li>\n",
       "\t<li>'000000'</li>\n",
       "\t<li>'qazwsx'</li>\n",
       "\t<li>'123qwe'</li>\n",
       "\t<li>'killer'</li>\n",
       "\t<li>'trustno1'</li>\n",
       "\t<li>'jordan'</li>\n",
       "\t<li>'jennifer'</li>\n",
       "\t<li>'zxcvbnm'</li>\n",
       "\t<li>'asdfgh'</li>\n",
       "\t<li>'hunter'</li>\n",
       "\t<li>'buster'</li>\n",
       "\t<li>'soccer'</li>\n",
       "\t<li>'harley'</li>\n",
       "\t<li>'batman'</li>\n",
       "\t<li>'andrew'</li>\n",
       "\t<li>'tigger'</li>\n",
       "\t<li>'sunshine'</li>\n",
       "\t<li>'iloveyou'</li>\n",
       "\t<li>'fuckme'</li>\n",
       "\t<li>'2000'</li>\n",
       "\t<li>'charlie'</li>\n",
       "\t<li>'robert'</li>\n",
       "\t<li>'thomas'</li>\n",
       "\t<li>'hockey'</li>\n",
       "\t<li>'ranger'</li>\n",
       "\t<li>'daniel'</li>\n",
       "\t<li>'starwars'</li>\n",
       "\t<li>'klaster'</li>\n",
       "\t<li>'112233'</li>\n",
       "\t<li>'george'</li>\n",
       "\t<li>'asshole'</li>\n",
       "\t<li>'computer'</li>\n",
       "\t<li>'michelle'</li>\n",
       "\t<li>'jessica'</li>\n",
       "\t<li>'pepper'</li>\n",
       "\t<li>'1111'</li>\n",
       "\t<li>'zxcvbn'</li>\n",
       "\t<li>'555555'</li>\n",
       "\t<li>'11111111'</li>\n",
       "\t<li>'131313'</li>\n",
       "\t<li>'freedom'</li>\n",
       "\t<li>'777777'</li>\n",
       "\t<li>'pass'</li>\n",
       "\t<li>'fuck'</li>\n",
       "\t<li>'maggie'</li>\n",
       "\t<li>'159753'</li>\n",
       "\t<li>'aaaaaa'</li>\n",
       "\t<li>'ginger'</li>\n",
       "\t<li>'princess'</li>\n",
       "\t<li>'joshua'</li>\n",
       "\t<li>'cheese'</li>\n",
       "\t<li>'amanda'</li>\n",
       "\t<li>'summer'</li>\n",
       "\t<li>'love'</li>\n",
       "\t<li>'ashley'</li>\n",
       "\t<li>'6969'</li>\n",
       "\t<li>'nicole'</li>\n",
       "\t<li>'chelsea'</li>\n",
       "\t<li>'biteme'</li>\n",
       "\t<li>'matthew'</li>\n",
       "\t<li>'access'</li>\n",
       "\t<li>'yankees'</li>\n",
       "\t<li>'987654321'</li>\n",
       "\t<li>'dallas'</li>\n",
       "\t<li>'austin'</li>\n",
       "\t<li>'thunder'</li>\n",
       "\t<li>'taylor'</li>\n",
       "\t<li>'matrix'</li>\n",
       "</ol>\n"
      ],
      "text/latex": [
       "\\begin{enumerate*}\n",
       "\\item '123456'\n",
       "\\item 'password'\n",
       "\\item '12345678'\n",
       "\\item 'qwerty'\n",
       "\\item '123456789'\n",
       "\\item '12345'\n",
       "\\item '1234'\n",
       "\\item '111111'\n",
       "\\item '1234567'\n",
       "\\item 'dragon'\n",
       "\\item '123123'\n",
       "\\item 'baseball'\n",
       "\\item 'abc123'\n",
       "\\item 'football'\n",
       "\\item 'monkey'\n",
       "\\item 'letmein'\n",
       "\\item '696969'\n",
       "\\item 'shadow'\n",
       "\\item 'master'\n",
       "\\item '666666'\n",
       "\\item 'qwertyuiop'\n",
       "\\item '123321'\n",
       "\\item 'mustang'\n",
       "\\item '1234567890'\n",
       "\\item 'michael'\n",
       "\\item '654321'\n",
       "\\item 'pussy'\n",
       "\\item 'superman'\n",
       "\\item '1qaz2wsx'\n",
       "\\item '7777777'\n",
       "\\item 'fuckyou'\n",
       "\\item '121212'\n",
       "\\item '000000'\n",
       "\\item 'qazwsx'\n",
       "\\item '123qwe'\n",
       "\\item 'killer'\n",
       "\\item 'trustno1'\n",
       "\\item 'jordan'\n",
       "\\item 'jennifer'\n",
       "\\item 'zxcvbnm'\n",
       "\\item 'asdfgh'\n",
       "\\item 'hunter'\n",
       "\\item 'buster'\n",
       "\\item 'soccer'\n",
       "\\item 'harley'\n",
       "\\item 'batman'\n",
       "\\item 'andrew'\n",
       "\\item 'tigger'\n",
       "\\item 'sunshine'\n",
       "\\item 'iloveyou'\n",
       "\\item 'fuckme'\n",
       "\\item '2000'\n",
       "\\item 'charlie'\n",
       "\\item 'robert'\n",
       "\\item 'thomas'\n",
       "\\item 'hockey'\n",
       "\\item 'ranger'\n",
       "\\item 'daniel'\n",
       "\\item 'starwars'\n",
       "\\item 'klaster'\n",
       "\\item '112233'\n",
       "\\item 'george'\n",
       "\\item 'asshole'\n",
       "\\item 'computer'\n",
       "\\item 'michelle'\n",
       "\\item 'jessica'\n",
       "\\item 'pepper'\n",
       "\\item '1111'\n",
       "\\item 'zxcvbn'\n",
       "\\item '555555'\n",
       "\\item '11111111'\n",
       "\\item '131313'\n",
       "\\item 'freedom'\n",
       "\\item '777777'\n",
       "\\item 'pass'\n",
       "\\item 'fuck'\n",
       "\\item 'maggie'\n",
       "\\item '159753'\n",
       "\\item 'aaaaaa'\n",
       "\\item 'ginger'\n",
       "\\item 'princess'\n",
       "\\item 'joshua'\n",
       "\\item 'cheese'\n",
       "\\item 'amanda'\n",
       "\\item 'summer'\n",
       "\\item 'love'\n",
       "\\item 'ashley'\n",
       "\\item '6969'\n",
       "\\item 'nicole'\n",
       "\\item 'chelsea'\n",
       "\\item 'biteme'\n",
       "\\item 'matthew'\n",
       "\\item 'access'\n",
       "\\item 'yankees'\n",
       "\\item '987654321'\n",
       "\\item 'dallas'\n",
       "\\item 'austin'\n",
       "\\item 'thunder'\n",
       "\\item 'taylor'\n",
       "\\item 'matrix'\n",
       "\\end{enumerate*}\n"
      ],
      "text/markdown": [
       "1. '123456'\n",
       "2. 'password'\n",
       "3. '12345678'\n",
       "4. 'qwerty'\n",
       "5. '123456789'\n",
       "6. '12345'\n",
       "7. '1234'\n",
       "8. '111111'\n",
       "9. '1234567'\n",
       "10. 'dragon'\n",
       "11. '123123'\n",
       "12. 'baseball'\n",
       "13. 'abc123'\n",
       "14. 'football'\n",
       "15. 'monkey'\n",
       "16. 'letmein'\n",
       "17. '696969'\n",
       "18. 'shadow'\n",
       "19. 'master'\n",
       "20. '666666'\n",
       "21. 'qwertyuiop'\n",
       "22. '123321'\n",
       "23. 'mustang'\n",
       "24. '1234567890'\n",
       "25. 'michael'\n",
       "26. '654321'\n",
       "27. 'pussy'\n",
       "28. 'superman'\n",
       "29. '1qaz2wsx'\n",
       "30. '7777777'\n",
       "31. 'fuckyou'\n",
       "32. '121212'\n",
       "33. '000000'\n",
       "34. 'qazwsx'\n",
       "35. '123qwe'\n",
       "36. 'killer'\n",
       "37. 'trustno1'\n",
       "38. 'jordan'\n",
       "39. 'jennifer'\n",
       "40. 'zxcvbnm'\n",
       "41. 'asdfgh'\n",
       "42. 'hunter'\n",
       "43. 'buster'\n",
       "44. 'soccer'\n",
       "45. 'harley'\n",
       "46. 'batman'\n",
       "47. 'andrew'\n",
       "48. 'tigger'\n",
       "49. 'sunshine'\n",
       "50. 'iloveyou'\n",
       "51. 'fuckme'\n",
       "52. '2000'\n",
       "53. 'charlie'\n",
       "54. 'robert'\n",
       "55. 'thomas'\n",
       "56. 'hockey'\n",
       "57. 'ranger'\n",
       "58. 'daniel'\n",
       "59. 'starwars'\n",
       "60. 'klaster'\n",
       "61. '112233'\n",
       "62. 'george'\n",
       "63. 'asshole'\n",
       "64. 'computer'\n",
       "65. 'michelle'\n",
       "66. 'jessica'\n",
       "67. 'pepper'\n",
       "68. '1111'\n",
       "69. 'zxcvbn'\n",
       "70. '555555'\n",
       "71. '11111111'\n",
       "72. '131313'\n",
       "73. 'freedom'\n",
       "74. '777777'\n",
       "75. 'pass'\n",
       "76. 'fuck'\n",
       "77. 'maggie'\n",
       "78. '159753'\n",
       "79. 'aaaaaa'\n",
       "80. 'ginger'\n",
       "81. 'princess'\n",
       "82. 'joshua'\n",
       "83. 'cheese'\n",
       "84. 'amanda'\n",
       "85. 'summer'\n",
       "86. 'love'\n",
       "87. 'ashley'\n",
       "88. '6969'\n",
       "89. 'nicole'\n",
       "90. 'chelsea'\n",
       "91. 'biteme'\n",
       "92. 'matthew'\n",
       "93. 'access'\n",
       "94. 'yankees'\n",
       "95. '987654321'\n",
       "96. 'dallas'\n",
       "97. 'austin'\n",
       "98. 'thunder'\n",
       "99. 'taylor'\n",
       "100. 'matrix'\n",
       "\n",
       "\n"
      ],
      "text/plain": [
       "  [1] \"123456\"     \"password\"   \"12345678\"   \"qwerty\"     \"123456789\" \n",
       "  [6] \"12345\"      \"1234\"       \"111111\"     \"1234567\"    \"dragon\"    \n",
       " [11] \"123123\"     \"baseball\"   \"abc123\"     \"football\"   \"monkey\"    \n",
       " [16] \"letmein\"    \"696969\"     \"shadow\"     \"master\"     \"666666\"    \n",
       " [21] \"qwertyuiop\" \"123321\"     \"mustang\"    \"1234567890\" \"michael\"   \n",
       " [26] \"654321\"     \"pussy\"      \"superman\"   \"1qaz2wsx\"   \"7777777\"   \n",
       " [31] \"fuckyou\"    \"121212\"     \"000000\"     \"qazwsx\"     \"123qwe\"    \n",
       " [36] \"killer\"     \"trustno1\"   \"jordan\"     \"jennifer\"   \"zxcvbnm\"   \n",
       " [41] \"asdfgh\"     \"hunter\"     \"buster\"     \"soccer\"     \"harley\"    \n",
       " [46] \"batman\"     \"andrew\"     \"tigger\"     \"sunshine\"   \"iloveyou\"  \n",
       " [51] \"fuckme\"     \"2000\"       \"charlie\"    \"robert\"     \"thomas\"    \n",
       " [56] \"hockey\"     \"ranger\"     \"daniel\"     \"starwars\"   \"klaster\"   \n",
       " [61] \"112233\"     \"george\"     \"asshole\"    \"computer\"   \"michelle\"  \n",
       " [66] \"jessica\"    \"pepper\"     \"1111\"       \"zxcvbn\"     \"555555\"    \n",
       " [71] \"11111111\"   \"131313\"     \"freedom\"    \"777777\"     \"pass\"      \n",
       " [76] \"fuck\"       \"maggie\"     \"159753\"     \"aaaaaa\"     \"ginger\"    \n",
       " [81] \"princess\"   \"joshua\"     \"cheese\"     \"amanda\"     \"summer\"    \n",
       " [86] \"love\"       \"ashley\"     \"6969\"       \"nicole\"     \"chelsea\"   \n",
       " [91] \"biteme\"     \"matthew\"    \"access\"     \"yankees\"    \"987654321\" \n",
       " [96] \"dallas\"     \"austin\"     \"thunder\"    \"taylor\"     \"matrix\"    "
      ]
     },
     "metadata": {},
     "output_type": "display_data"
    }
   ],
   "source": [
    "# Reading in the top 10000 passwords\n",
    "common_passwords <- read_lines(\"datasets/10_million_password_list_top_10000.txt\")\n",
    "\n",
    "# Taking a look at the top 100\n",
    "head(common_passwords, n = 100)"
   ]
  },
  {
   "cell_type": "markdown",
   "metadata": {
    "dc": {
     "key": "24"
    },
    "deletable": false,
    "editable": false,
    "run_control": {
     "frozen": true
    },
    "tags": [
     "context"
    ]
   },
   "source": [
    "## 4.  Passwords should not be common passwords\n",
    "<p>The list of passwords was ordered, with the most common passwords first, and so we shouldn't be surprised to see passwords like <code>123456</code> and <code>qwerty</code> above. As hackers also have access to this list of common passwords, it's important that none of our users use these passwords!</p>\n",
    "<p>Let's flag all the passwords in our user database that are among the top 10,000 used passwords.</p>"
   ]
  },
  {
   "cell_type": "code",
   "execution_count": 4,
   "metadata": {
    "dc": {
     "key": "24"
    },
    "tags": [
     "sample_code"
    ]
   },
   "outputs": [
    {
     "data": {
      "text/html": [
       "129"
      ],
      "text/latex": [
       "129"
      ],
      "text/markdown": [
       "129"
      ],
      "text/plain": [
       "[1] 129"
      ]
     },
     "metadata": {},
     "output_type": "display_data"
    },
    {
     "data": {
      "text/html": [
       "<table>\n",
       "<thead><tr><th scope=col>id</th><th scope=col>user_name</th><th scope=col>password</th><th scope=col>length</th><th scope=col>too_short</th><th scope=col>common_password</th></tr></thead>\n",
       "<tbody>\n",
       "\t<tr><td> 1              </td><td>vance.jennings  </td><td>joobheco        </td><td> 8              </td><td>FALSE           </td><td>FALSE           </td></tr>\n",
       "\t<tr><td> 2              </td><td>consuelo.eaton  </td><td>0869347314      </td><td>10              </td><td>FALSE           </td><td>FALSE           </td></tr>\n",
       "\t<tr><td> 3              </td><td>mitchel.perkins </td><td>fabypotter      </td><td>10              </td><td>FALSE           </td><td>FALSE           </td></tr>\n",
       "\t<tr><td> 4              </td><td>odessa.vaughan  </td><td>aharney88       </td><td> 9              </td><td>FALSE           </td><td>FALSE           </td></tr>\n",
       "\t<tr><td> 5              </td><td>araceli.wilder  </td><td>acecdn3000      </td><td>10              </td><td>FALSE           </td><td>FALSE           </td></tr>\n",
       "\t<tr><td> 6              </td><td>shawn.harrington</td><td>5278049         </td><td> 7              </td><td> TRUE           </td><td>FALSE           </td></tr>\n",
       "\t<tr><td> 7              </td><td>evelyn.gay      </td><td>master          </td><td> 6              </td><td> TRUE           </td><td> TRUE           </td></tr>\n",
       "\t<tr><td> 8              </td><td>noreen.hale     </td><td>murphy          </td><td> 6              </td><td> TRUE           </td><td> TRUE           </td></tr>\n",
       "\t<tr><td> 9              </td><td>gladys.ward     </td><td>lwsves2         </td><td> 7              </td><td> TRUE           </td><td>FALSE           </td></tr>\n",
       "\t<tr><td>10              </td><td>brant.zimmerman </td><td>1190KAREN5572497</td><td>16              </td><td>FALSE           </td><td>FALSE           </td></tr>\n",
       "\t<tr><td>11              </td><td>leanna.abbott   </td><td>aivlys24        </td><td> 8              </td><td>FALSE           </td><td>FALSE           </td></tr>\n",
       "\t<tr><td>12              </td><td>milford.hubbard </td><td>hubbard         </td><td> 7              </td><td> TRUE           </td><td>FALSE           </td></tr>\n",
       "</tbody>\n",
       "</table>\n"
      ],
      "text/latex": [
       "\\begin{tabular}{r|llllll}\n",
       " id & user\\_name & password & length & too\\_short & common\\_password\\\\\n",
       "\\hline\n",
       "\t  1               & vance.jennings   & joobheco         &  8               & FALSE            & FALSE           \\\\\n",
       "\t  2               & consuelo.eaton   & 0869347314       & 10               & FALSE            & FALSE           \\\\\n",
       "\t  3               & mitchel.perkins  & fabypotter       & 10               & FALSE            & FALSE           \\\\\n",
       "\t  4               & odessa.vaughan   & aharney88        &  9               & FALSE            & FALSE           \\\\\n",
       "\t  5               & araceli.wilder   & acecdn3000       & 10               & FALSE            & FALSE           \\\\\n",
       "\t  6               & shawn.harrington & 5278049          &  7               &  TRUE            & FALSE           \\\\\n",
       "\t  7               & evelyn.gay       & master           &  6               &  TRUE            &  TRUE           \\\\\n",
       "\t  8               & noreen.hale      & murphy           &  6               &  TRUE            &  TRUE           \\\\\n",
       "\t  9               & gladys.ward      & lwsves2          &  7               &  TRUE            & FALSE           \\\\\n",
       "\t 10               & brant.zimmerman  & 1190KAREN5572497 & 16               & FALSE            & FALSE           \\\\\n",
       "\t 11               & leanna.abbott    & aivlys24         &  8               & FALSE            & FALSE           \\\\\n",
       "\t 12               & milford.hubbard  & hubbard          &  7               &  TRUE            & FALSE           \\\\\n",
       "\\end{tabular}\n"
      ],
      "text/markdown": [
       "\n",
       "id | user_name | password | length | too_short | common_password | \n",
       "|---|---|---|---|---|---|---|---|---|---|---|---|\n",
       "|  1               | vance.jennings   | joobheco         |  8               | FALSE            | FALSE            | \n",
       "|  2               | consuelo.eaton   | 0869347314       | 10               | FALSE            | FALSE            | \n",
       "|  3               | mitchel.perkins  | fabypotter       | 10               | FALSE            | FALSE            | \n",
       "|  4               | odessa.vaughan   | aharney88        |  9               | FALSE            | FALSE            | \n",
       "|  5               | araceli.wilder   | acecdn3000       | 10               | FALSE            | FALSE            | \n",
       "|  6               | shawn.harrington | 5278049          |  7               |  TRUE            | FALSE            | \n",
       "|  7               | evelyn.gay       | master           |  6               |  TRUE            |  TRUE            | \n",
       "|  8               | noreen.hale      | murphy           |  6               |  TRUE            |  TRUE            | \n",
       "|  9               | gladys.ward      | lwsves2          |  7               |  TRUE            | FALSE            | \n",
       "| 10               | brant.zimmerman  | 1190KAREN5572497 | 16               | FALSE            | FALSE            | \n",
       "| 11               | leanna.abbott    | aivlys24         |  8               | FALSE            | FALSE            | \n",
       "| 12               | milford.hubbard  | hubbard          |  7               |  TRUE            | FALSE            | \n",
       "\n",
       "\n"
      ],
      "text/plain": [
       "   id user_name        password         length too_short common_password\n",
       "1   1 vance.jennings   joobheco          8     FALSE     FALSE          \n",
       "2   2 consuelo.eaton   0869347314       10     FALSE     FALSE          \n",
       "3   3 mitchel.perkins  fabypotter       10     FALSE     FALSE          \n",
       "4   4 odessa.vaughan   aharney88         9     FALSE     FALSE          \n",
       "5   5 araceli.wilder   acecdn3000       10     FALSE     FALSE          \n",
       "6   6 shawn.harrington 5278049           7      TRUE     FALSE          \n",
       "7   7 evelyn.gay       master            6      TRUE      TRUE          \n",
       "8   8 noreen.hale      murphy            6      TRUE      TRUE          \n",
       "9   9 gladys.ward      lwsves2           7      TRUE     FALSE          \n",
       "10 10 brant.zimmerman  1190KAREN5572497 16     FALSE     FALSE          \n",
       "11 11 leanna.abbott    aivlys24          8     FALSE     FALSE          \n",
       "12 12 milford.hubbard  hubbard           7      TRUE     FALSE          "
      ]
     },
     "metadata": {},
     "output_type": "display_data"
    }
   ],
   "source": [
    "# Flagging the users with passwords that are common passwords\n",
    "users$common_password <- users$password %in% common_passwords\n",
    "\n",
    "# Counting the number of users using common passwords\n",
    "sum(users$common_password)\n",
    "\n",
    "# Taking a look at the 12 first rows\n",
    "head(users, n = 12)"
   ]
  },
  {
   "cell_type": "markdown",
   "metadata": {
    "dc": {
     "key": "31"
    },
    "deletable": false,
    "editable": false,
    "run_control": {
     "frozen": true
    },
    "tags": [
     "context"
    ]
   },
   "source": [
    "## 5. Passwords should not be common words\n",
    "<p>Ay ay ay! It turns out many of our users use common passwords, and of the first 12 users there are already two. However, as most common passwords also tend to be short, they were already flagged as being too short. What is the next thing we should check?</p>\n",
    "<blockquote>\n",
    "  <p>Verifiers SHALL compare the prospective secrets against a list that contains [...] dictionary words.</p>\n",
    "</blockquote>\n",
    "<p>This follows the same logic as before: It is easy for hackers to check users' passwords against common English words and therefore common English words make bad passwords. Let's check our users' passwords against the top 10,000 English words from <a href=\"https://github.com/first20hours/google-10000-english\">Google's Trillion Word Corpus</a>.</p>"
   ]
  },
  {
   "cell_type": "code",
   "execution_count": 5,
   "metadata": {
    "dc": {
     "key": "31"
    },
    "tags": [
     "sample_code"
    ]
   },
   "outputs": [
    {
     "data": {
      "text/html": [
       "137"
      ],
      "text/latex": [
       "137"
      ],
      "text/markdown": [
       "137"
      ],
      "text/plain": [
       "[1] 137"
      ]
     },
     "metadata": {},
     "output_type": "display_data"
    },
    {
     "data": {
      "text/html": [
       "<table>\n",
       "<thead><tr><th scope=col>id</th><th scope=col>user_name</th><th scope=col>password</th><th scope=col>length</th><th scope=col>too_short</th><th scope=col>common_password</th><th scope=col>common_word</th></tr></thead>\n",
       "<tbody>\n",
       "\t<tr><td>1               </td><td>vance.jennings  </td><td>joobheco        </td><td> 8              </td><td>FALSE           </td><td>FALSE           </td><td>FALSE           </td></tr>\n",
       "\t<tr><td>2               </td><td>consuelo.eaton  </td><td>0869347314      </td><td>10              </td><td>FALSE           </td><td>FALSE           </td><td>FALSE           </td></tr>\n",
       "\t<tr><td>3               </td><td>mitchel.perkins </td><td>fabypotter      </td><td>10              </td><td>FALSE           </td><td>FALSE           </td><td>FALSE           </td></tr>\n",
       "\t<tr><td>4               </td><td>odessa.vaughan  </td><td>aharney88       </td><td> 9              </td><td>FALSE           </td><td>FALSE           </td><td>FALSE           </td></tr>\n",
       "\t<tr><td>5               </td><td>araceli.wilder  </td><td>acecdn3000      </td><td>10              </td><td>FALSE           </td><td>FALSE           </td><td>FALSE           </td></tr>\n",
       "\t<tr><td>6               </td><td>shawn.harrington</td><td>5278049         </td><td> 7              </td><td> TRUE           </td><td>FALSE           </td><td>FALSE           </td></tr>\n",
       "</tbody>\n",
       "</table>\n"
      ],
      "text/latex": [
       "\\begin{tabular}{r|lllllll}\n",
       " id & user\\_name & password & length & too\\_short & common\\_password & common\\_word\\\\\n",
       "\\hline\n",
       "\t 1                & vance.jennings   & joobheco         &  8               & FALSE            & FALSE            & FALSE           \\\\\n",
       "\t 2                & consuelo.eaton   & 0869347314       & 10               & FALSE            & FALSE            & FALSE           \\\\\n",
       "\t 3                & mitchel.perkins  & fabypotter       & 10               & FALSE            & FALSE            & FALSE           \\\\\n",
       "\t 4                & odessa.vaughan   & aharney88        &  9               & FALSE            & FALSE            & FALSE           \\\\\n",
       "\t 5                & araceli.wilder   & acecdn3000       & 10               & FALSE            & FALSE            & FALSE           \\\\\n",
       "\t 6                & shawn.harrington & 5278049          &  7               &  TRUE            & FALSE            & FALSE           \\\\\n",
       "\\end{tabular}\n"
      ],
      "text/markdown": [
       "\n",
       "id | user_name | password | length | too_short | common_password | common_word | \n",
       "|---|---|---|---|---|---|\n",
       "| 1                | vance.jennings   | joobheco         |  8               | FALSE            | FALSE            | FALSE            | \n",
       "| 2                | consuelo.eaton   | 0869347314       | 10               | FALSE            | FALSE            | FALSE            | \n",
       "| 3                | mitchel.perkins  | fabypotter       | 10               | FALSE            | FALSE            | FALSE            | \n",
       "| 4                | odessa.vaughan   | aharney88        |  9               | FALSE            | FALSE            | FALSE            | \n",
       "| 5                | araceli.wilder   | acecdn3000       | 10               | FALSE            | FALSE            | FALSE            | \n",
       "| 6                | shawn.harrington | 5278049          |  7               |  TRUE            | FALSE            | FALSE            | \n",
       "\n",
       "\n"
      ],
      "text/plain": [
       "  id user_name        password   length too_short common_password common_word\n",
       "1 1  vance.jennings   joobheco    8     FALSE     FALSE           FALSE      \n",
       "2 2  consuelo.eaton   0869347314 10     FALSE     FALSE           FALSE      \n",
       "3 3  mitchel.perkins  fabypotter 10     FALSE     FALSE           FALSE      \n",
       "4 4  odessa.vaughan   aharney88   9     FALSE     FALSE           FALSE      \n",
       "5 5  araceli.wilder   acecdn3000 10     FALSE     FALSE           FALSE      \n",
       "6 6  shawn.harrington 5278049     7      TRUE     FALSE           FALSE      "
      ]
     },
     "metadata": {},
     "output_type": "display_data"
    }
   ],
   "source": [
    "# Reading in a list of the 10000 most common words\n",
    "words <- read_lines(\"datasets/google-10000-english.txt\")\n",
    "\n",
    "# Flagging the users with passwords that are common words\n",
    "users$common_word <- str_to_lower(users$password) %in% words\n",
    "\n",
    "# Counting the number of users using common words as passwords\n",
    "sum(users$common_word)\n",
    "\n",
    "# Taking a look at the 12 first rows\n",
    "head(users)"
   ]
  },
  {
   "cell_type": "markdown",
   "metadata": {
    "dc": {
     "key": "38"
    },
    "deletable": false,
    "editable": false,
    "run_control": {
     "frozen": true
    },
    "tags": [
     "context"
    ]
   },
   "source": [
    "## 6. Passwords should not be your name\n",
    "<p>It turns out many of our passwords were common English words too! Next up on the NIST list:</p>\n",
    "<blockquote>\n",
    "  <p>Verifiers SHALL compare the prospective secrets against a list that contains [...] context-specific words, such as the name of the service, the username, and derivatives thereof.</p>\n",
    "</blockquote>\n",
    "<p>Ok, so there are many things we could check here. One thing to notice is that our users' usernames consist of their first names and last names separated by a dot. For now, let's just flag passwords that are the same as either a user's first or last name.</p>"
   ]
  },
  {
   "cell_type": "code",
   "execution_count": 6,
   "metadata": {
    "dc": {
     "key": "38"
    },
    "tags": [
     "sample_code"
    ]
   },
   "outputs": [
    {
     "data": {
      "text/html": [
       "50"
      ],
      "text/latex": [
       "50"
      ],
      "text/markdown": [
       "50"
      ],
      "text/plain": [
       "[1] 50"
      ]
     },
     "metadata": {},
     "output_type": "display_data"
    },
    {
     "data": {
      "text/html": [
       "<table>\n",
       "<thead><tr><th scope=col>id</th><th scope=col>user_name</th><th scope=col>password</th><th scope=col>length</th><th scope=col>too_short</th><th scope=col>common_password</th><th scope=col>common_word</th><th scope=col>first_name</th><th scope=col>last_name</th><th scope=col>uses_name</th></tr></thead>\n",
       "<tbody>\n",
       "\t<tr><td> 1              </td><td>vance.jennings  </td><td>joobheco        </td><td> 8              </td><td>FALSE           </td><td>FALSE           </td><td>FALSE           </td><td>vance           </td><td>jennings        </td><td>FALSE           </td></tr>\n",
       "\t<tr><td> 2              </td><td>consuelo.eaton  </td><td>0869347314      </td><td>10              </td><td>FALSE           </td><td>FALSE           </td><td>FALSE           </td><td>consuelo        </td><td>eaton           </td><td>FALSE           </td></tr>\n",
       "\t<tr><td> 3              </td><td>mitchel.perkins </td><td>fabypotter      </td><td>10              </td><td>FALSE           </td><td>FALSE           </td><td>FALSE           </td><td>mitchel         </td><td>perkins         </td><td>FALSE           </td></tr>\n",
       "\t<tr><td> 4              </td><td>odessa.vaughan  </td><td>aharney88       </td><td> 9              </td><td>FALSE           </td><td>FALSE           </td><td>FALSE           </td><td>odessa          </td><td>vaughan         </td><td>FALSE           </td></tr>\n",
       "\t<tr><td> 5              </td><td>araceli.wilder  </td><td>acecdn3000      </td><td>10              </td><td>FALSE           </td><td>FALSE           </td><td>FALSE           </td><td>araceli         </td><td>wilder          </td><td>FALSE           </td></tr>\n",
       "\t<tr><td> 6              </td><td>shawn.harrington</td><td>5278049         </td><td> 7              </td><td> TRUE           </td><td>FALSE           </td><td>FALSE           </td><td>shawn           </td><td>harrington      </td><td>FALSE           </td></tr>\n",
       "\t<tr><td> 7              </td><td>evelyn.gay      </td><td>master          </td><td> 6              </td><td> TRUE           </td><td> TRUE           </td><td> TRUE           </td><td>evelyn          </td><td>gay             </td><td>FALSE           </td></tr>\n",
       "\t<tr><td> 8              </td><td>noreen.hale     </td><td>murphy          </td><td> 6              </td><td> TRUE           </td><td> TRUE           </td><td> TRUE           </td><td>noreen          </td><td>hale            </td><td>FALSE           </td></tr>\n",
       "\t<tr><td> 9              </td><td>gladys.ward     </td><td>lwsves2         </td><td> 7              </td><td> TRUE           </td><td>FALSE           </td><td>FALSE           </td><td>gladys          </td><td>ward            </td><td>FALSE           </td></tr>\n",
       "\t<tr><td>10              </td><td>brant.zimmerman </td><td>1190KAREN5572497</td><td>16              </td><td>FALSE           </td><td>FALSE           </td><td>FALSE           </td><td>brant           </td><td>zimmerman       </td><td>FALSE           </td></tr>\n",
       "\t<tr><td>11              </td><td>leanna.abbott   </td><td>aivlys24        </td><td> 8              </td><td>FALSE           </td><td>FALSE           </td><td>FALSE           </td><td>leanna          </td><td>abbott          </td><td>FALSE           </td></tr>\n",
       "\t<tr><td>12              </td><td>milford.hubbard </td><td>hubbard         </td><td> 7              </td><td> TRUE           </td><td>FALSE           </td><td>FALSE           </td><td>milford         </td><td>hubbard         </td><td> TRUE           </td></tr>\n",
       "</tbody>\n",
       "</table>\n"
      ],
      "text/latex": [
       "\\begin{tabular}{r|llllllllll}\n",
       " id & user\\_name & password & length & too\\_short & common\\_password & common\\_word & first\\_name & last\\_name & uses\\_name\\\\\n",
       "\\hline\n",
       "\t  1               & vance.jennings   & joobheco         &  8               & FALSE            & FALSE            & FALSE            & vance            & jennings         & FALSE           \\\\\n",
       "\t  2               & consuelo.eaton   & 0869347314       & 10               & FALSE            & FALSE            & FALSE            & consuelo         & eaton            & FALSE           \\\\\n",
       "\t  3               & mitchel.perkins  & fabypotter       & 10               & FALSE            & FALSE            & FALSE            & mitchel          & perkins          & FALSE           \\\\\n",
       "\t  4               & odessa.vaughan   & aharney88        &  9               & FALSE            & FALSE            & FALSE            & odessa           & vaughan          & FALSE           \\\\\n",
       "\t  5               & araceli.wilder   & acecdn3000       & 10               & FALSE            & FALSE            & FALSE            & araceli          & wilder           & FALSE           \\\\\n",
       "\t  6               & shawn.harrington & 5278049          &  7               &  TRUE            & FALSE            & FALSE            & shawn            & harrington       & FALSE           \\\\\n",
       "\t  7               & evelyn.gay       & master           &  6               &  TRUE            &  TRUE            &  TRUE            & evelyn           & gay              & FALSE           \\\\\n",
       "\t  8               & noreen.hale      & murphy           &  6               &  TRUE            &  TRUE            &  TRUE            & noreen           & hale             & FALSE           \\\\\n",
       "\t  9               & gladys.ward      & lwsves2          &  7               &  TRUE            & FALSE            & FALSE            & gladys           & ward             & FALSE           \\\\\n",
       "\t 10               & brant.zimmerman  & 1190KAREN5572497 & 16               & FALSE            & FALSE            & FALSE            & brant            & zimmerman        & FALSE           \\\\\n",
       "\t 11               & leanna.abbott    & aivlys24         &  8               & FALSE            & FALSE            & FALSE            & leanna           & abbott           & FALSE           \\\\\n",
       "\t 12               & milford.hubbard  & hubbard          &  7               &  TRUE            & FALSE            & FALSE            & milford          & hubbard          &  TRUE           \\\\\n",
       "\\end{tabular}\n"
      ],
      "text/markdown": [
       "\n",
       "id | user_name | password | length | too_short | common_password | common_word | first_name | last_name | uses_name | \n",
       "|---|---|---|---|---|---|---|---|---|---|---|---|\n",
       "|  1               | vance.jennings   | joobheco         |  8               | FALSE            | FALSE            | FALSE            | vance            | jennings         | FALSE            | \n",
       "|  2               | consuelo.eaton   | 0869347314       | 10               | FALSE            | FALSE            | FALSE            | consuelo         | eaton            | FALSE            | \n",
       "|  3               | mitchel.perkins  | fabypotter       | 10               | FALSE            | FALSE            | FALSE            | mitchel          | perkins          | FALSE            | \n",
       "|  4               | odessa.vaughan   | aharney88        |  9               | FALSE            | FALSE            | FALSE            | odessa           | vaughan          | FALSE            | \n",
       "|  5               | araceli.wilder   | acecdn3000       | 10               | FALSE            | FALSE            | FALSE            | araceli          | wilder           | FALSE            | \n",
       "|  6               | shawn.harrington | 5278049          |  7               |  TRUE            | FALSE            | FALSE            | shawn            | harrington       | FALSE            | \n",
       "|  7               | evelyn.gay       | master           |  6               |  TRUE            |  TRUE            |  TRUE            | evelyn           | gay              | FALSE            | \n",
       "|  8               | noreen.hale      | murphy           |  6               |  TRUE            |  TRUE            |  TRUE            | noreen           | hale             | FALSE            | \n",
       "|  9               | gladys.ward      | lwsves2          |  7               |  TRUE            | FALSE            | FALSE            | gladys           | ward             | FALSE            | \n",
       "| 10               | brant.zimmerman  | 1190KAREN5572497 | 16               | FALSE            | FALSE            | FALSE            | brant            | zimmerman        | FALSE            | \n",
       "| 11               | leanna.abbott    | aivlys24         |  8               | FALSE            | FALSE            | FALSE            | leanna           | abbott           | FALSE            | \n",
       "| 12               | milford.hubbard  | hubbard          |  7               |  TRUE            | FALSE            | FALSE            | milford          | hubbard          |  TRUE            | \n",
       "\n",
       "\n"
      ],
      "text/plain": [
       "   id user_name        password         length too_short common_password\n",
       "1   1 vance.jennings   joobheco          8     FALSE     FALSE          \n",
       "2   2 consuelo.eaton   0869347314       10     FALSE     FALSE          \n",
       "3   3 mitchel.perkins  fabypotter       10     FALSE     FALSE          \n",
       "4   4 odessa.vaughan   aharney88         9     FALSE     FALSE          \n",
       "5   5 araceli.wilder   acecdn3000       10     FALSE     FALSE          \n",
       "6   6 shawn.harrington 5278049           7      TRUE     FALSE          \n",
       "7   7 evelyn.gay       master            6      TRUE      TRUE          \n",
       "8   8 noreen.hale      murphy            6      TRUE      TRUE          \n",
       "9   9 gladys.ward      lwsves2           7      TRUE     FALSE          \n",
       "10 10 brant.zimmerman  1190KAREN5572497 16     FALSE     FALSE          \n",
       "11 11 leanna.abbott    aivlys24          8     FALSE     FALSE          \n",
       "12 12 milford.hubbard  hubbard           7      TRUE     FALSE          \n",
       "   common_word first_name last_name  uses_name\n",
       "1  FALSE       vance      jennings   FALSE    \n",
       "2  FALSE       consuelo   eaton      FALSE    \n",
       "3  FALSE       mitchel    perkins    FALSE    \n",
       "4  FALSE       odessa     vaughan    FALSE    \n",
       "5  FALSE       araceli    wilder     FALSE    \n",
       "6  FALSE       shawn      harrington FALSE    \n",
       "7   TRUE       evelyn     gay        FALSE    \n",
       "8   TRUE       noreen     hale       FALSE    \n",
       "9  FALSE       gladys     ward       FALSE    \n",
       "10 FALSE       brant      zimmerman  FALSE    \n",
       "11 FALSE       leanna     abbott     FALSE    \n",
       "12 FALSE       milford    hubbard     TRUE    "
      ]
     },
     "metadata": {},
     "output_type": "display_data"
    }
   ],
   "source": [
    "# Extracting first and last names into their own columns\n",
    "users$first_name <- str_extract(users$user_name, \"^\\\\w+\")\n",
    "users$last_name <- str_extract(users$user_name, \"[^.]\\\\w+$\")\n",
    "\n",
    "# Flagging the users with passwords that matches their names\n",
    "users$uses_name <- users$password == users$first_name | users$password == users$last_name\n",
    "\n",
    "# Counting the number of users using names as passwords\n",
    "sum(users$uses_name)\n",
    "\n",
    "# Taking a look at the 12 first rows\n",
    "head(users, n = 12)"
   ]
  },
  {
   "cell_type": "markdown",
   "metadata": {
    "dc": {
     "key": "45"
    },
    "deletable": false,
    "editable": false,
    "run_control": {
     "frozen": true
    },
    "tags": [
     "context"
    ]
   },
   "source": [
    "## 7. Passwords should not be repetitive\n",
    "<p>Milford Hubbard (user number 12 above), what where you thinking!? Ok, so the last thing we are going to check is a bit tricky:</p>\n",
    "<blockquote>\n",
    "  <p>verifiers SHALL compare the prospective secrets [so that they don't contain] repetitive or sequential characters (e.g. ‘aaaaaa’, ‘1234abcd’).</p>\n",
    "</blockquote>\n",
    "<p>This is tricky to check because what is <em>repetitive</em> is hard to define. Is <code>11111</code> repetitive? Yes! Is <code>12345</code> repetitive? Well, kind of. Is <code>13579</code> repetitive? Maybe not..? To check for <em>repetitiveness</em> can be arbitrarily complex, but here we're only going to do something simple. We're going to flag all passwords that contain 4 or more repeated characters.</p>"
   ]
  },
  {
   "cell_type": "code",
   "execution_count": 7,
   "metadata": {
    "dc": {
     "key": "45"
    },
    "tags": [
     "sample_code"
    ]
   },
   "outputs": [
    {
     "data": {
      "text/html": [
       "<table>\n",
       "<thead><tr><th scope=col>id</th><th scope=col>user_name</th><th scope=col>password</th><th scope=col>length</th><th scope=col>too_short</th><th scope=col>common_password</th><th scope=col>common_word</th><th scope=col>first_name</th><th scope=col>last_name</th><th scope=col>uses_name</th><th scope=col>max_repeats</th><th scope=col>too_many_repeats</th></tr></thead>\n",
       "<tbody>\n",
       "\t<tr><td>1               </td><td>vance.jennings  </td><td>joobheco        </td><td> 8              </td><td>FALSE           </td><td>FALSE           </td><td>FALSE           </td><td>vance           </td><td>jennings        </td><td>FALSE           </td><td>2               </td><td>FALSE           </td></tr>\n",
       "\t<tr><td>2               </td><td>consuelo.eaton  </td><td>0869347314      </td><td>10              </td><td>FALSE           </td><td>FALSE           </td><td>FALSE           </td><td>consuelo        </td><td>eaton           </td><td>FALSE           </td><td>1               </td><td>FALSE           </td></tr>\n",
       "\t<tr><td>3               </td><td>mitchel.perkins </td><td>fabypotter      </td><td>10              </td><td>FALSE           </td><td>FALSE           </td><td>FALSE           </td><td>mitchel         </td><td>perkins         </td><td>FALSE           </td><td>2               </td><td>FALSE           </td></tr>\n",
       "\t<tr><td>4               </td><td>odessa.vaughan  </td><td>aharney88       </td><td> 9              </td><td>FALSE           </td><td>FALSE           </td><td>FALSE           </td><td>odessa          </td><td>vaughan         </td><td>FALSE           </td><td>2               </td><td>FALSE           </td></tr>\n",
       "\t<tr><td>5               </td><td>araceli.wilder  </td><td>acecdn3000      </td><td>10              </td><td>FALSE           </td><td>FALSE           </td><td>FALSE           </td><td>araceli         </td><td>wilder          </td><td>FALSE           </td><td>3               </td><td>FALSE           </td></tr>\n",
       "\t<tr><td>6               </td><td>shawn.harrington</td><td>5278049         </td><td> 7              </td><td> TRUE           </td><td>FALSE           </td><td>FALSE           </td><td>shawn           </td><td>harrington      </td><td>FALSE           </td><td>1               </td><td>FALSE           </td></tr>\n",
       "</tbody>\n",
       "</table>\n"
      ],
      "text/latex": [
       "\\begin{tabular}{r|llllllllllll}\n",
       " id & user\\_name & password & length & too\\_short & common\\_password & common\\_word & first\\_name & last\\_name & uses\\_name & max\\_repeats & too\\_many\\_repeats\\\\\n",
       "\\hline\n",
       "\t 1                & vance.jennings   & joobheco         &  8               & FALSE            & FALSE            & FALSE            & vance            & jennings         & FALSE            & 2                & FALSE           \\\\\n",
       "\t 2                & consuelo.eaton   & 0869347314       & 10               & FALSE            & FALSE            & FALSE            & consuelo         & eaton            & FALSE            & 1                & FALSE           \\\\\n",
       "\t 3                & mitchel.perkins  & fabypotter       & 10               & FALSE            & FALSE            & FALSE            & mitchel          & perkins          & FALSE            & 2                & FALSE           \\\\\n",
       "\t 4                & odessa.vaughan   & aharney88        &  9               & FALSE            & FALSE            & FALSE            & odessa           & vaughan          & FALSE            & 2                & FALSE           \\\\\n",
       "\t 5                & araceli.wilder   & acecdn3000       & 10               & FALSE            & FALSE            & FALSE            & araceli          & wilder           & FALSE            & 3                & FALSE           \\\\\n",
       "\t 6                & shawn.harrington & 5278049          &  7               &  TRUE            & FALSE            & FALSE            & shawn            & harrington       & FALSE            & 1                & FALSE           \\\\\n",
       "\\end{tabular}\n"
      ],
      "text/markdown": [
       "\n",
       "id | user_name | password | length | too_short | common_password | common_word | first_name | last_name | uses_name | max_repeats | too_many_repeats | \n",
       "|---|---|---|---|---|---|\n",
       "| 1                | vance.jennings   | joobheco         |  8               | FALSE            | FALSE            | FALSE            | vance            | jennings         | FALSE            | 2                | FALSE            | \n",
       "| 2                | consuelo.eaton   | 0869347314       | 10               | FALSE            | FALSE            | FALSE            | consuelo         | eaton            | FALSE            | 1                | FALSE            | \n",
       "| 3                | mitchel.perkins  | fabypotter       | 10               | FALSE            | FALSE            | FALSE            | mitchel          | perkins          | FALSE            | 2                | FALSE            | \n",
       "| 4                | odessa.vaughan   | aharney88        |  9               | FALSE            | FALSE            | FALSE            | odessa           | vaughan          | FALSE            | 2                | FALSE            | \n",
       "| 5                | araceli.wilder   | acecdn3000       | 10               | FALSE            | FALSE            | FALSE            | araceli          | wilder           | FALSE            | 3                | FALSE            | \n",
       "| 6                | shawn.harrington | 5278049          |  7               |  TRUE            | FALSE            | FALSE            | shawn            | harrington       | FALSE            | 1                | FALSE            | \n",
       "\n",
       "\n"
      ],
      "text/plain": [
       "  id user_name        password   length too_short common_password common_word\n",
       "1 1  vance.jennings   joobheco    8     FALSE     FALSE           FALSE      \n",
       "2 2  consuelo.eaton   0869347314 10     FALSE     FALSE           FALSE      \n",
       "3 3  mitchel.perkins  fabypotter 10     FALSE     FALSE           FALSE      \n",
       "4 4  odessa.vaughan   aharney88   9     FALSE     FALSE           FALSE      \n",
       "5 5  araceli.wilder   acecdn3000 10     FALSE     FALSE           FALSE      \n",
       "6 6  shawn.harrington 5278049     7      TRUE     FALSE           FALSE      \n",
       "  first_name last_name  uses_name max_repeats too_many_repeats\n",
       "1 vance      jennings   FALSE     2           FALSE           \n",
       "2 consuelo   eaton      FALSE     1           FALSE           \n",
       "3 mitchel    perkins    FALSE     2           FALSE           \n",
       "4 odessa     vaughan    FALSE     2           FALSE           \n",
       "5 araceli    wilder     FALSE     3           FALSE           \n",
       "6 shawn      harrington FALSE     1           FALSE           "
      ]
     },
     "metadata": {},
     "output_type": "display_data"
    }
   ],
   "source": [
    "# Splitting the passwords into vectors of single characters\n",
    "split_passwords <- str_split(users$password, \"\")\n",
    "\n",
    "# Picking out the max number of repeat characters for each password\n",
    "users$max_repeats <- sapply(split_passwords, function(split_password) {\n",
    "    max(rle(split_password)$length)\n",
    "})\n",
    "\n",
    "# Flagging the passwords with >= 4 repeats\n",
    "users$too_many_repeats <- users$max_repeats >= 4\n",
    "\n",
    "# Taking a look at the users with too many repeats\n",
    "head(users)"
   ]
  },
  {
   "cell_type": "markdown",
   "metadata": {
    "dc": {
     "key": "52"
    },
    "deletable": false,
    "editable": false,
    "run_control": {
     "frozen": true
    },
    "tags": [
     "context"
    ]
   },
   "source": [
    "## 8. All together now!\n",
    "<p>Now we have implemented all the basic tests for bad passwords suggested by NIST Special Publication 800-63B! What's left is just to flag all bad passwords and maybe to send these users an e-mail that strongly suggests they change their password.</p>"
   ]
  },
  {
   "cell_type": "code",
   "execution_count": 8,
   "metadata": {
    "dc": {
     "key": "52"
    },
    "tags": [
     "sample_code"
    ]
   },
   "outputs": [
    {
     "data": {
      "text/html": [
       "424"
      ],
      "text/latex": [
       "424"
      ],
      "text/markdown": [
       "424"
      ],
      "text/plain": [
       "[1] 424"
      ]
     },
     "metadata": {},
     "output_type": "display_data"
    },
    {
     "data": {
      "text/html": [
       "<table>\n",
       "<thead><tr><th scope=col>id</th><th scope=col>user_name</th><th scope=col>password</th><th scope=col>length</th><th scope=col>too_short</th><th scope=col>common_password</th><th scope=col>common_word</th><th scope=col>first_name</th><th scope=col>last_name</th><th scope=col>uses_name</th><th scope=col>max_repeats</th><th scope=col>too_many_repeats</th><th scope=col>bad_password</th></tr></thead>\n",
       "<tbody>\n",
       "\t<tr><td> 1                </td><td>vance.jennings    </td><td>joobheco          </td><td> 8                </td><td>FALSE             </td><td>FALSE             </td><td>FALSE             </td><td>vance             </td><td>jennings          </td><td>FALSE             </td><td>2                 </td><td>FALSE             </td><td>FALSE             </td></tr>\n",
       "\t<tr><td> 2                </td><td>consuelo.eaton    </td><td>0869347314        </td><td>10                </td><td>FALSE             </td><td>FALSE             </td><td>FALSE             </td><td>consuelo          </td><td>eaton             </td><td>FALSE             </td><td>1                 </td><td>FALSE             </td><td>FALSE             </td></tr>\n",
       "\t<tr><td> 3                </td><td>mitchel.perkins   </td><td>fabypotter        </td><td>10                </td><td>FALSE             </td><td>FALSE             </td><td>FALSE             </td><td>mitchel           </td><td>perkins           </td><td>FALSE             </td><td>2                 </td><td>FALSE             </td><td>FALSE             </td></tr>\n",
       "\t<tr><td> 4                </td><td>odessa.vaughan    </td><td>aharney88         </td><td> 9                </td><td>FALSE             </td><td>FALSE             </td><td>FALSE             </td><td>odessa            </td><td>vaughan           </td><td>FALSE             </td><td>2                 </td><td>FALSE             </td><td>FALSE             </td></tr>\n",
       "\t<tr><td> 5                </td><td>araceli.wilder    </td><td>acecdn3000        </td><td>10                </td><td>FALSE             </td><td>FALSE             </td><td>FALSE             </td><td>araceli           </td><td>wilder            </td><td>FALSE             </td><td>3                 </td><td>FALSE             </td><td>FALSE             </td></tr>\n",
       "\t<tr><td> 6                </td><td>shawn.harrington  </td><td>5278049           </td><td> 7                </td><td> TRUE             </td><td>FALSE             </td><td>FALSE             </td><td>shawn             </td><td>harrington        </td><td>FALSE             </td><td>1                 </td><td>FALSE             </td><td> TRUE             </td></tr>\n",
       "\t<tr><td> 7                </td><td>evelyn.gay        </td><td>master            </td><td> 6                </td><td> TRUE             </td><td> TRUE             </td><td> TRUE             </td><td>evelyn            </td><td>gay               </td><td>FALSE             </td><td>1                 </td><td>FALSE             </td><td> TRUE             </td></tr>\n",
       "\t<tr><td> 8                </td><td>noreen.hale       </td><td>murphy            </td><td> 6                </td><td> TRUE             </td><td> TRUE             </td><td> TRUE             </td><td>noreen            </td><td>hale              </td><td>FALSE             </td><td>1                 </td><td>FALSE             </td><td> TRUE             </td></tr>\n",
       "\t<tr><td> 9                </td><td>gladys.ward       </td><td>lwsves2           </td><td> 7                </td><td> TRUE             </td><td>FALSE             </td><td>FALSE             </td><td>gladys            </td><td>ward              </td><td>FALSE             </td><td>1                 </td><td>FALSE             </td><td> TRUE             </td></tr>\n",
       "\t<tr><td>10                </td><td>brant.zimmerman   </td><td>1190KAREN5572497  </td><td>16                </td><td>FALSE             </td><td>FALSE             </td><td>FALSE             </td><td>brant             </td><td>zimmerman         </td><td>FALSE             </td><td>2                 </td><td>FALSE             </td><td>FALSE             </td></tr>\n",
       "\t<tr><td>11                </td><td>leanna.abbott     </td><td>aivlys24          </td><td> 8                </td><td>FALSE             </td><td>FALSE             </td><td>FALSE             </td><td>leanna            </td><td>abbott            </td><td>FALSE             </td><td>1                 </td><td>FALSE             </td><td>FALSE             </td></tr>\n",
       "\t<tr><td>12                </td><td>milford.hubbard   </td><td>hubbard           </td><td> 7                </td><td> TRUE             </td><td>FALSE             </td><td>FALSE             </td><td>milford           </td><td>hubbard           </td><td> TRUE             </td><td>2                 </td><td>FALSE             </td><td> TRUE             </td></tr>\n",
       "\t<tr><td>13                </td><td>mamie.fox         </td><td>mitonguito        </td><td>10                </td><td>FALSE             </td><td>FALSE             </td><td>FALSE             </td><td>mamie             </td><td>fox               </td><td>FALSE             </td><td>1                 </td><td>FALSE             </td><td>FALSE             </td></tr>\n",
       "\t<tr><td>14                </td><td>jamie.cochran     </td><td>310356            </td><td> 6                </td><td> TRUE             </td><td>FALSE             </td><td>FALSE             </td><td>jamie             </td><td>cochran           </td><td>FALSE             </td><td>1                 </td><td>FALSE             </td><td> TRUE             </td></tr>\n",
       "\t<tr><td>15                </td><td>nathaniel.robinson</td><td>angelmajo         </td><td> 9                </td><td>FALSE             </td><td>FALSE             </td><td>FALSE             </td><td>nathaniel         </td><td>robinson          </td><td>FALSE             </td><td>1                 </td><td>FALSE             </td><td>FALSE             </td></tr>\n",
       "\t<tr><td>16                </td><td>lorrie.gay        </td><td>oZ4k0QE           </td><td> 7                </td><td> TRUE             </td><td>FALSE             </td><td>FALSE             </td><td>lorrie            </td><td>gay               </td><td>FALSE             </td><td>1                 </td><td>FALSE             </td><td> TRUE             </td></tr>\n",
       "\t<tr><td>17                </td><td>domingo.dyer      </td><td>chelsea           </td><td> 7                </td><td> TRUE             </td><td> TRUE             </td><td> TRUE             </td><td>domingo           </td><td>dyer              </td><td>FALSE             </td><td>1                 </td><td>FALSE             </td><td> TRUE             </td></tr>\n",
       "\t<tr><td>18                </td><td>martin.pacheco    </td><td>zvc1939           </td><td> 7                </td><td> TRUE             </td><td>FALSE             </td><td>FALSE             </td><td>martin            </td><td>pacheco           </td><td>FALSE             </td><td>1                 </td><td>FALSE             </td><td> TRUE             </td></tr>\n",
       "\t<tr><td>19                </td><td>shelby.massey     </td><td>nickgd            </td><td> 6                </td><td> TRUE             </td><td>FALSE             </td><td>FALSE             </td><td>shelby            </td><td>massey            </td><td>FALSE             </td><td>1                 </td><td>FALSE             </td><td> TRUE             </td></tr>\n",
       "\t<tr><td>20                </td><td>rosella.barrett   </td><td>O2gv3LlcfG        </td><td>10                </td><td>FALSE             </td><td>FALSE             </td><td>FALSE             </td><td>rosella           </td><td>barrett           </td><td>FALSE             </td><td>1                 </td><td>FALSE             </td><td>FALSE             </td></tr>\n",
       "\t<tr><td>21                </td><td>karina.morton     </td><td>dada4943          </td><td> 8                </td><td>FALSE             </td><td>FALSE             </td><td>FALSE             </td><td>karina            </td><td>morton            </td><td>FALSE             </td><td>1                 </td><td>FALSE             </td><td>FALSE             </td></tr>\n",
       "\t<tr><td>22                </td><td>leticia.sanford   </td><td>cocacola          </td><td> 8                </td><td>FALSE             </td><td> TRUE             </td><td>FALSE             </td><td>leticia           </td><td>sanford           </td><td>FALSE             </td><td>1                 </td><td>FALSE             </td><td> TRUE             </td></tr>\n",
       "\t<tr><td>23                </td><td>jenny.woodard     </td><td>woodard           </td><td> 7                </td><td> TRUE             </td><td>FALSE             </td><td>FALSE             </td><td>jenny             </td><td>woodard           </td><td> TRUE             </td><td>2                 </td><td>FALSE             </td><td> TRUE             </td></tr>\n",
       "\t<tr><td>24                </td><td>brandie.webster   </td><td>sentry31          </td><td> 8                </td><td>FALSE             </td><td>FALSE             </td><td>FALSE             </td><td>brandie           </td><td>webster           </td><td>FALSE             </td><td>1                 </td><td>FALSE             </td><td>FALSE             </td></tr>\n",
       "\t<tr><td>25                </td><td>sabrina.suarez    </td><td>OTEL3Q0D8y        </td><td>10                </td><td>FALSE             </td><td>FALSE             </td><td>FALSE             </td><td>sabrina           </td><td>suarez            </td><td>FALSE             </td><td>1                 </td><td>FALSE             </td><td>FALSE             </td></tr>\n",
       "\t<tr><td>26                </td><td>dianna.munoz      </td><td>AJ9Da             </td><td> 5                </td><td> TRUE             </td><td>FALSE             </td><td>FALSE             </td><td>dianna            </td><td>munoz             </td><td>FALSE             </td><td>1                 </td><td>FALSE             </td><td> TRUE             </td></tr>\n",
       "\t<tr><td>27                </td><td>julia.savage      </td><td>ewokzs            </td><td> 6                </td><td> TRUE             </td><td>FALSE             </td><td>FALSE             </td><td>julia             </td><td>savage            </td><td>FALSE             </td><td>1                 </td><td>FALSE             </td><td> TRUE             </td></tr>\n",
       "\t<tr><td>28                </td><td>loretta.bass      </td><td>WvNV1aKyFEcPe     </td><td>13                </td><td>FALSE             </td><td>FALSE             </td><td>FALSE             </td><td>loretta           </td><td>bass              </td><td>FALSE             </td><td>1                 </td><td>FALSE             </td><td>FALSE             </td></tr>\n",
       "\t<tr><td>29                </td><td>joaquin.walters   </td><td>YyGjz8E           </td><td> 7                </td><td> TRUE             </td><td>FALSE             </td><td>FALSE             </td><td>joaquin           </td><td>walters           </td><td>FALSE             </td><td>1                 </td><td>FALSE             </td><td> TRUE             </td></tr>\n",
       "\t<tr><td>30                </td><td>rene.small        </td><td>toreze00          </td><td> 8                </td><td>FALSE             </td><td>FALSE             </td><td>FALSE             </td><td>rene              </td><td>small             </td><td>FALSE             </td><td>2                 </td><td>FALSE             </td><td>FALSE             </td></tr>\n",
       "\t<tr><td>...</td><td>...</td><td>...</td><td>...</td><td>...</td><td>...</td><td>...</td><td>...</td><td>...</td><td>...</td><td>...</td><td>...</td><td>...</td></tr>\n",
       "\t<tr><td> 71               </td><td>bonita.morin      </td><td>owlsclassrule     </td><td>13                </td><td>FALSE             </td><td>FALSE             </td><td>FALSE             </td><td>bonita            </td><td>morin             </td><td>FALSE             </td><td>2                 </td><td>FALSE             </td><td>FALSE             </td></tr>\n",
       "\t<tr><td> 72               </td><td>lena.mckay        </td><td>FvSTWdon8sM       </td><td>11                </td><td>FALSE             </td><td>FALSE             </td><td>FALSE             </td><td>lena              </td><td>mckay             </td><td>FALSE             </td><td>1                 </td><td>FALSE             </td><td>FALSE             </td></tr>\n",
       "\t<tr><td> 73               </td><td>mona.frederick    </td><td>1905bokyta13!     </td><td>13                </td><td>FALSE             </td><td>FALSE             </td><td>FALSE             </td><td>mona              </td><td>frederick         </td><td>FALSE             </td><td>1                 </td><td>FALSE             </td><td>FALSE             </td></tr>\n",
       "\t<tr><td> 74               </td><td>john.battle       </td><td>2doitmyway        </td><td>10                </td><td>FALSE             </td><td>FALSE             </td><td>FALSE             </td><td>john              </td><td>battle            </td><td>FALSE             </td><td>1                 </td><td>FALSE             </td><td>FALSE             </td></tr>\n",
       "\t<tr><td> 75               </td><td>bud.knox          </td><td>k_lovely          </td><td> 8                </td><td>FALSE             </td><td>FALSE             </td><td>FALSE             </td><td>bud               </td><td>knox              </td><td>FALSE             </td><td>1                 </td><td>FALSE             </td><td>FALSE             </td></tr>\n",
       "\t<tr><td> 76               </td><td>tomas.gallegos    </td><td>ytJWHZlVg8        </td><td>10                </td><td>FALSE             </td><td>FALSE             </td><td>FALSE             </td><td>tomas             </td><td>gallegos          </td><td>FALSE             </td><td>1                 </td><td>FALSE             </td><td>FALSE             </td></tr>\n",
       "\t<tr><td> 77               </td><td>emerson.caldwell  </td><td>JAMARIAN          </td><td> 8                </td><td>FALSE             </td><td>FALSE             </td><td>FALSE             </td><td>emerson           </td><td>caldwell          </td><td>FALSE             </td><td>1                 </td><td>FALSE             </td><td>FALSE             </td></tr>\n",
       "\t<tr><td> 78               </td><td>carmelo.sherman   </td><td>XbWex62oflJAN0n   </td><td>15                </td><td>FALSE             </td><td>FALSE             </td><td>FALSE             </td><td>carmelo           </td><td>sherman           </td><td>FALSE             </td><td>1                 </td><td>FALSE             </td><td>FALSE             </td></tr>\n",
       "\t<tr><td> 79               </td><td>roland.mcgee      </td><td>thx1138           </td><td> 7                </td><td> TRUE             </td><td> TRUE             </td><td>FALSE             </td><td>roland            </td><td>mcgee             </td><td>FALSE             </td><td>2                 </td><td>FALSE             </td><td> TRUE             </td></tr>\n",
       "\t<tr><td> 80               </td><td>courtney.conner   </td><td>023895768         </td><td> 9                </td><td>FALSE             </td><td>FALSE             </td><td>FALSE             </td><td>courtney          </td><td>conner            </td><td>FALSE             </td><td>1                 </td><td>FALSE             </td><td>FALSE             </td></tr>\n",
       "\t<tr><td> 81               </td><td>maggie.willis     </td><td>sixthlilc         </td><td> 9                </td><td>FALSE             </td><td>FALSE             </td><td>FALSE             </td><td>maggie            </td><td>willis            </td><td>FALSE             </td><td>1                 </td><td>FALSE             </td><td>FALSE             </td></tr>\n",
       "\t<tr><td> 82               </td><td>seymour.ball      </td><td>midnight          </td><td> 8                </td><td>FALSE             </td><td> TRUE             </td><td> TRUE             </td><td>seymour           </td><td>ball              </td><td>FALSE             </td><td>1                 </td><td>FALSE             </td><td> TRUE             </td></tr>\n",
       "\t<tr><td> 83               </td><td>consuelo.gibbs    </td><td>V2moUlCRzrON      </td><td>12                </td><td>FALSE             </td><td>FALSE             </td><td>FALSE             </td><td>consuelo          </td><td>gibbs             </td><td>FALSE             </td><td>1                 </td><td>FALSE             </td><td>FALSE             </td></tr>\n",
       "\t<tr><td> 84               </td><td>nathaniel.dotson  </td><td>7xFHcdy           </td><td> 7                </td><td> TRUE             </td><td>FALSE             </td><td>FALSE             </td><td>nathaniel         </td><td>dotson            </td><td>FALSE             </td><td>1                 </td><td>FALSE             </td><td> TRUE             </td></tr>\n",
       "\t<tr><td> 85               </td><td>dorian.caldwell   </td><td>dorian            </td><td> 6                </td><td> TRUE             </td><td> TRUE             </td><td>FALSE             </td><td>dorian            </td><td>caldwell          </td><td> TRUE             </td><td>1                 </td><td>FALSE             </td><td> TRUE             </td></tr>\n",
       "\t<tr><td> 86               </td><td>florine.gibson    </td><td>kvc3zLjTg         </td><td> 9                </td><td>FALSE             </td><td>FALSE             </td><td>FALSE             </td><td>florine           </td><td>gibson            </td><td>FALSE             </td><td>1                 </td><td>FALSE             </td><td>FALSE             </td></tr>\n",
       "\t<tr><td> 87               </td><td>saundra.king      </td><td>jimjordan         </td><td> 9                </td><td>FALSE             </td><td>FALSE             </td><td>FALSE             </td><td>saundra           </td><td>king              </td><td>FALSE             </td><td>1                 </td><td>FALSE             </td><td>FALSE             </td></tr>\n",
       "\t<tr><td> 88               </td><td>emilia.hurley     </td><td>2458098           </td><td> 7                </td><td> TRUE             </td><td>FALSE             </td><td>FALSE             </td><td>emilia            </td><td>hurley            </td><td>FALSE             </td><td>1                 </td><td>FALSE             </td><td> TRUE             </td></tr>\n",
       "\t<tr><td> 89               </td><td>ira.cortez        </td><td>mmommy22          </td><td> 8                </td><td>FALSE             </td><td>FALSE             </td><td>FALSE             </td><td>ira               </td><td>cortez            </td><td>FALSE             </td><td>2                 </td><td>FALSE             </td><td>FALSE             </td></tr>\n",
       "\t<tr><td> 90               </td><td>jordan.hurley     </td><td>hurley            </td><td> 6                </td><td> TRUE             </td><td> TRUE             </td><td>FALSE             </td><td>jordan            </td><td>hurley            </td><td> TRUE             </td><td>1                 </td><td>FALSE             </td><td> TRUE             </td></tr>\n",
       "\t<tr><td> 91               </td><td>sheryl.ross       </td><td>PEOPLESUC9        </td><td>10                </td><td>FALSE             </td><td>FALSE             </td><td>FALSE             </td><td>sheryl            </td><td>ross              </td><td>FALSE             </td><td>1                 </td><td>FALSE             </td><td>FALSE             </td></tr>\n",
       "\t<tr><td> 92               </td><td>romeo.gibson      </td><td>UYHUGG            </td><td> 6                </td><td> TRUE             </td><td>FALSE             </td><td>FALSE             </td><td>romeo             </td><td>gibson            </td><td>FALSE             </td><td>2                 </td><td>FALSE             </td><td> TRUE             </td></tr>\n",
       "\t<tr><td> 93               </td><td>marguerite.hunter </td><td>wishes            </td><td> 6                </td><td> TRUE             </td><td>FALSE             </td><td> TRUE             </td><td>marguerite        </td><td>hunter            </td><td>FALSE             </td><td>1                 </td><td>FALSE             </td><td> TRUE             </td></tr>\n",
       "\t<tr><td> 94               </td><td>alexis.mccullough </td><td>D2FBkOXgW         </td><td> 9                </td><td>FALSE             </td><td>FALSE             </td><td>FALSE             </td><td>alexis            </td><td>mccullough        </td><td>FALSE             </td><td>1                 </td><td>FALSE             </td><td>FALSE             </td></tr>\n",
       "\t<tr><td> 95               </td><td>loren.crosby      </td><td>9u21kgWMS5xsJQr   </td><td>15                </td><td>FALSE             </td><td>FALSE             </td><td>FALSE             </td><td>loren             </td><td>crosby            </td><td>FALSE             </td><td>1                 </td><td>FALSE             </td><td>FALSE             </td></tr>\n",
       "\t<tr><td> 96               </td><td>goldie.puckett    </td><td>jake145           </td><td> 7                </td><td> TRUE             </td><td>FALSE             </td><td>FALSE             </td><td>goldie            </td><td>puckett           </td><td>FALSE             </td><td>1                 </td><td>FALSE             </td><td> TRUE             </td></tr>\n",
       "\t<tr><td> 97               </td><td>glen.guerra       </td><td>0177175959        </td><td>10                </td><td>FALSE             </td><td>FALSE             </td><td>FALSE             </td><td>glen              </td><td>guerra            </td><td>FALSE             </td><td>2                 </td><td>FALSE             </td><td>FALSE             </td></tr>\n",
       "\t<tr><td> 98               </td><td>trinidad.rodriquez</td><td>Oli#2b            </td><td> 6                </td><td> TRUE             </td><td>FALSE             </td><td>FALSE             </td><td>trinidad          </td><td>rodriquez         </td><td>FALSE             </td><td>1                 </td><td>FALSE             </td><td> TRUE             </td></tr>\n",
       "\t<tr><td> 99               </td><td>kimberly.lawson   </td><td>dow071san301      </td><td>12                </td><td>FALSE             </td><td>FALSE             </td><td>FALSE             </td><td>kimberly          </td><td>lawson            </td><td>FALSE             </td><td>1                 </td><td>FALSE             </td><td>FALSE             </td></tr>\n",
       "\t<tr><td>100               </td><td>jeanne.battle     </td><td>navidad69         </td><td> 9                </td><td>FALSE             </td><td>FALSE             </td><td>FALSE             </td><td>jeanne            </td><td>battle            </td><td>FALSE             </td><td>1                 </td><td>FALSE             </td><td>FALSE             </td></tr>\n",
       "</tbody>\n",
       "</table>\n"
      ],
      "text/latex": [
       "\\begin{tabular}{r|lllllllllllll}\n",
       " id & user\\_name & password & length & too\\_short & common\\_password & common\\_word & first\\_name & last\\_name & uses\\_name & max\\_repeats & too\\_many\\_repeats & bad\\_password\\\\\n",
       "\\hline\n",
       "\t  1                 & vance.jennings     & joobheco           &  8                 & FALSE              & FALSE              & FALSE              & vance              & jennings           & FALSE              & 2                  & FALSE              & FALSE             \\\\\n",
       "\t  2                 & consuelo.eaton     & 0869347314         & 10                 & FALSE              & FALSE              & FALSE              & consuelo           & eaton              & FALSE              & 1                  & FALSE              & FALSE             \\\\\n",
       "\t  3                 & mitchel.perkins    & fabypotter         & 10                 & FALSE              & FALSE              & FALSE              & mitchel            & perkins            & FALSE              & 2                  & FALSE              & FALSE             \\\\\n",
       "\t  4                 & odessa.vaughan     & aharney88          &  9                 & FALSE              & FALSE              & FALSE              & odessa             & vaughan            & FALSE              & 2                  & FALSE              & FALSE             \\\\\n",
       "\t  5                 & araceli.wilder     & acecdn3000         & 10                 & FALSE              & FALSE              & FALSE              & araceli            & wilder             & FALSE              & 3                  & FALSE              & FALSE             \\\\\n",
       "\t  6                 & shawn.harrington   & 5278049            &  7                 &  TRUE              & FALSE              & FALSE              & shawn              & harrington         & FALSE              & 1                  & FALSE              &  TRUE             \\\\\n",
       "\t  7                 & evelyn.gay         & master             &  6                 &  TRUE              &  TRUE              &  TRUE              & evelyn             & gay                & FALSE              & 1                  & FALSE              &  TRUE             \\\\\n",
       "\t  8                 & noreen.hale        & murphy             &  6                 &  TRUE              &  TRUE              &  TRUE              & noreen             & hale               & FALSE              & 1                  & FALSE              &  TRUE             \\\\\n",
       "\t  9                 & gladys.ward        & lwsves2            &  7                 &  TRUE              & FALSE              & FALSE              & gladys             & ward               & FALSE              & 1                  & FALSE              &  TRUE             \\\\\n",
       "\t 10                 & brant.zimmerman    & 1190KAREN5572497   & 16                 & FALSE              & FALSE              & FALSE              & brant              & zimmerman          & FALSE              & 2                  & FALSE              & FALSE             \\\\\n",
       "\t 11                 & leanna.abbott      & aivlys24           &  8                 & FALSE              & FALSE              & FALSE              & leanna             & abbott             & FALSE              & 1                  & FALSE              & FALSE             \\\\\n",
       "\t 12                 & milford.hubbard    & hubbard            &  7                 &  TRUE              & FALSE              & FALSE              & milford            & hubbard            &  TRUE              & 2                  & FALSE              &  TRUE             \\\\\n",
       "\t 13                 & mamie.fox          & mitonguito         & 10                 & FALSE              & FALSE              & FALSE              & mamie              & fox                & FALSE              & 1                  & FALSE              & FALSE             \\\\\n",
       "\t 14                 & jamie.cochran      & 310356             &  6                 &  TRUE              & FALSE              & FALSE              & jamie              & cochran            & FALSE              & 1                  & FALSE              &  TRUE             \\\\\n",
       "\t 15                 & nathaniel.robinson & angelmajo          &  9                 & FALSE              & FALSE              & FALSE              & nathaniel          & robinson           & FALSE              & 1                  & FALSE              & FALSE             \\\\\n",
       "\t 16                 & lorrie.gay         & oZ4k0QE            &  7                 &  TRUE              & FALSE              & FALSE              & lorrie             & gay                & FALSE              & 1                  & FALSE              &  TRUE             \\\\\n",
       "\t 17                 & domingo.dyer       & chelsea            &  7                 &  TRUE              &  TRUE              &  TRUE              & domingo            & dyer               & FALSE              & 1                  & FALSE              &  TRUE             \\\\\n",
       "\t 18                 & martin.pacheco     & zvc1939            &  7                 &  TRUE              & FALSE              & FALSE              & martin             & pacheco            & FALSE              & 1                  & FALSE              &  TRUE             \\\\\n",
       "\t 19                 & shelby.massey      & nickgd             &  6                 &  TRUE              & FALSE              & FALSE              & shelby             & massey             & FALSE              & 1                  & FALSE              &  TRUE             \\\\\n",
       "\t 20                 & rosella.barrett    & O2gv3LlcfG         & 10                 & FALSE              & FALSE              & FALSE              & rosella            & barrett            & FALSE              & 1                  & FALSE              & FALSE             \\\\\n",
       "\t 21                 & karina.morton      & dada4943           &  8                 & FALSE              & FALSE              & FALSE              & karina             & morton             & FALSE              & 1                  & FALSE              & FALSE             \\\\\n",
       "\t 22                 & leticia.sanford    & cocacola           &  8                 & FALSE              &  TRUE              & FALSE              & leticia            & sanford            & FALSE              & 1                  & FALSE              &  TRUE             \\\\\n",
       "\t 23                 & jenny.woodard      & woodard            &  7                 &  TRUE              & FALSE              & FALSE              & jenny              & woodard            &  TRUE              & 2                  & FALSE              &  TRUE             \\\\\n",
       "\t 24                 & brandie.webster    & sentry31           &  8                 & FALSE              & FALSE              & FALSE              & brandie            & webster            & FALSE              & 1                  & FALSE              & FALSE             \\\\\n",
       "\t 25                 & sabrina.suarez     & OTEL3Q0D8y         & 10                 & FALSE              & FALSE              & FALSE              & sabrina            & suarez             & FALSE              & 1                  & FALSE              & FALSE             \\\\\n",
       "\t 26                 & dianna.munoz       & AJ9Da              &  5                 &  TRUE              & FALSE              & FALSE              & dianna             & munoz              & FALSE              & 1                  & FALSE              &  TRUE             \\\\\n",
       "\t 27                 & julia.savage       & ewokzs             &  6                 &  TRUE              & FALSE              & FALSE              & julia              & savage             & FALSE              & 1                  & FALSE              &  TRUE             \\\\\n",
       "\t 28                 & loretta.bass       & WvNV1aKyFEcPe      & 13                 & FALSE              & FALSE              & FALSE              & loretta            & bass               & FALSE              & 1                  & FALSE              & FALSE             \\\\\n",
       "\t 29                 & joaquin.walters    & YyGjz8E            &  7                 &  TRUE              & FALSE              & FALSE              & joaquin            & walters            & FALSE              & 1                  & FALSE              &  TRUE             \\\\\n",
       "\t 30                 & rene.small         & toreze00           &  8                 & FALSE              & FALSE              & FALSE              & rene               & small              & FALSE              & 2                  & FALSE              & FALSE             \\\\\n",
       "\t ... & ... & ... & ... & ... & ... & ... & ... & ... & ... & ... & ... & ...\\\\\n",
       "\t  71                & bonita.morin       & owlsclassrule      & 13                 & FALSE              & FALSE              & FALSE              & bonita             & morin              & FALSE              & 2                  & FALSE              & FALSE             \\\\\n",
       "\t  72                & lena.mckay         & FvSTWdon8sM        & 11                 & FALSE              & FALSE              & FALSE              & lena               & mckay              & FALSE              & 1                  & FALSE              & FALSE             \\\\\n",
       "\t  73                & mona.frederick     & 1905bokyta13!      & 13                 & FALSE              & FALSE              & FALSE              & mona               & frederick          & FALSE              & 1                  & FALSE              & FALSE             \\\\\n",
       "\t  74                & john.battle        & 2doitmyway         & 10                 & FALSE              & FALSE              & FALSE              & john               & battle             & FALSE              & 1                  & FALSE              & FALSE             \\\\\n",
       "\t  75                & bud.knox           & k\\_lovely         &  8                 & FALSE              & FALSE              & FALSE              & bud                & knox               & FALSE              & 1                  & FALSE              & FALSE             \\\\\n",
       "\t  76                & tomas.gallegos     & ytJWHZlVg8         & 10                 & FALSE              & FALSE              & FALSE              & tomas              & gallegos           & FALSE              & 1                  & FALSE              & FALSE             \\\\\n",
       "\t  77                & emerson.caldwell   & JAMARIAN           &  8                 & FALSE              & FALSE              & FALSE              & emerson            & caldwell           & FALSE              & 1                  & FALSE              & FALSE             \\\\\n",
       "\t  78                & carmelo.sherman    & XbWex62oflJAN0n    & 15                 & FALSE              & FALSE              & FALSE              & carmelo            & sherman            & FALSE              & 1                  & FALSE              & FALSE             \\\\\n",
       "\t  79                & roland.mcgee       & thx1138            &  7                 &  TRUE              &  TRUE              & FALSE              & roland             & mcgee              & FALSE              & 2                  & FALSE              &  TRUE             \\\\\n",
       "\t  80                & courtney.conner    & 023895768          &  9                 & FALSE              & FALSE              & FALSE              & courtney           & conner             & FALSE              & 1                  & FALSE              & FALSE             \\\\\n",
       "\t  81                & maggie.willis      & sixthlilc          &  9                 & FALSE              & FALSE              & FALSE              & maggie             & willis             & FALSE              & 1                  & FALSE              & FALSE             \\\\\n",
       "\t  82                & seymour.ball       & midnight           &  8                 & FALSE              &  TRUE              &  TRUE              & seymour            & ball               & FALSE              & 1                  & FALSE              &  TRUE             \\\\\n",
       "\t  83                & consuelo.gibbs     & V2moUlCRzrON       & 12                 & FALSE              & FALSE              & FALSE              & consuelo           & gibbs              & FALSE              & 1                  & FALSE              & FALSE             \\\\\n",
       "\t  84                & nathaniel.dotson   & 7xFHcdy            &  7                 &  TRUE              & FALSE              & FALSE              & nathaniel          & dotson             & FALSE              & 1                  & FALSE              &  TRUE             \\\\\n",
       "\t  85                & dorian.caldwell    & dorian             &  6                 &  TRUE              &  TRUE              & FALSE              & dorian             & caldwell           &  TRUE              & 1                  & FALSE              &  TRUE             \\\\\n",
       "\t  86                & florine.gibson     & kvc3zLjTg          &  9                 & FALSE              & FALSE              & FALSE              & florine            & gibson             & FALSE              & 1                  & FALSE              & FALSE             \\\\\n",
       "\t  87                & saundra.king       & jimjordan          &  9                 & FALSE              & FALSE              & FALSE              & saundra            & king               & FALSE              & 1                  & FALSE              & FALSE             \\\\\n",
       "\t  88                & emilia.hurley      & 2458098            &  7                 &  TRUE              & FALSE              & FALSE              & emilia             & hurley             & FALSE              & 1                  & FALSE              &  TRUE             \\\\\n",
       "\t  89                & ira.cortez         & mmommy22           &  8                 & FALSE              & FALSE              & FALSE              & ira                & cortez             & FALSE              & 2                  & FALSE              & FALSE             \\\\\n",
       "\t  90                & jordan.hurley      & hurley             &  6                 &  TRUE              &  TRUE              & FALSE              & jordan             & hurley             &  TRUE              & 1                  & FALSE              &  TRUE             \\\\\n",
       "\t  91                & sheryl.ross        & PEOPLESUC9         & 10                 & FALSE              & FALSE              & FALSE              & sheryl             & ross               & FALSE              & 1                  & FALSE              & FALSE             \\\\\n",
       "\t  92                & romeo.gibson       & UYHUGG             &  6                 &  TRUE              & FALSE              & FALSE              & romeo              & gibson             & FALSE              & 2                  & FALSE              &  TRUE             \\\\\n",
       "\t  93                & marguerite.hunter  & wishes             &  6                 &  TRUE              & FALSE              &  TRUE              & marguerite         & hunter             & FALSE              & 1                  & FALSE              &  TRUE             \\\\\n",
       "\t  94                & alexis.mccullough  & D2FBkOXgW          &  9                 & FALSE              & FALSE              & FALSE              & alexis             & mccullough         & FALSE              & 1                  & FALSE              & FALSE             \\\\\n",
       "\t  95                & loren.crosby       & 9u21kgWMS5xsJQr    & 15                 & FALSE              & FALSE              & FALSE              & loren              & crosby             & FALSE              & 1                  & FALSE              & FALSE             \\\\\n",
       "\t  96                & goldie.puckett     & jake145            &  7                 &  TRUE              & FALSE              & FALSE              & goldie             & puckett            & FALSE              & 1                  & FALSE              &  TRUE             \\\\\n",
       "\t  97                & glen.guerra        & 0177175959         & 10                 & FALSE              & FALSE              & FALSE              & glen               & guerra             & FALSE              & 2                  & FALSE              & FALSE             \\\\\n",
       "\t  98                & trinidad.rodriquez & Oli\\#2b           &  6                 &  TRUE              & FALSE              & FALSE              & trinidad           & rodriquez          & FALSE              & 1                  & FALSE              &  TRUE             \\\\\n",
       "\t  99                & kimberly.lawson    & dow071san301       & 12                 & FALSE              & FALSE              & FALSE              & kimberly           & lawson             & FALSE              & 1                  & FALSE              & FALSE             \\\\\n",
       "\t 100                & jeanne.battle      & navidad69          &  9                 & FALSE              & FALSE              & FALSE              & jeanne             & battle             & FALSE              & 1                  & FALSE              & FALSE             \\\\\n",
       "\\end{tabular}\n"
      ],
      "text/markdown": [
       "\n",
       "id | user_name | password | length | too_short | common_password | common_word | first_name | last_name | uses_name | max_repeats | too_many_repeats | bad_password | \n",
       "|---|---|---|---|---|---|---|---|---|---|---|---|---|---|---|---|---|---|---|---|---|---|---|---|---|---|---|---|---|---|---|---|---|---|---|---|---|---|---|---|---|---|---|---|---|---|---|---|---|---|---|---|---|---|---|---|---|---|---|---|---|\n",
       "|  1                 | vance.jennings     | joobheco           |  8                 | FALSE              | FALSE              | FALSE              | vance              | jennings           | FALSE              | 2                  | FALSE              | FALSE              | \n",
       "|  2                 | consuelo.eaton     | 0869347314         | 10                 | FALSE              | FALSE              | FALSE              | consuelo           | eaton              | FALSE              | 1                  | FALSE              | FALSE              | \n",
       "|  3                 | mitchel.perkins    | fabypotter         | 10                 | FALSE              | FALSE              | FALSE              | mitchel            | perkins            | FALSE              | 2                  | FALSE              | FALSE              | \n",
       "|  4                 | odessa.vaughan     | aharney88          |  9                 | FALSE              | FALSE              | FALSE              | odessa             | vaughan            | FALSE              | 2                  | FALSE              | FALSE              | \n",
       "|  5                 | araceli.wilder     | acecdn3000         | 10                 | FALSE              | FALSE              | FALSE              | araceli            | wilder             | FALSE              | 3                  | FALSE              | FALSE              | \n",
       "|  6                 | shawn.harrington   | 5278049            |  7                 |  TRUE              | FALSE              | FALSE              | shawn              | harrington         | FALSE              | 1                  | FALSE              |  TRUE              | \n",
       "|  7                 | evelyn.gay         | master             |  6                 |  TRUE              |  TRUE              |  TRUE              | evelyn             | gay                | FALSE              | 1                  | FALSE              |  TRUE              | \n",
       "|  8                 | noreen.hale        | murphy             |  6                 |  TRUE              |  TRUE              |  TRUE              | noreen             | hale               | FALSE              | 1                  | FALSE              |  TRUE              | \n",
       "|  9                 | gladys.ward        | lwsves2            |  7                 |  TRUE              | FALSE              | FALSE              | gladys             | ward               | FALSE              | 1                  | FALSE              |  TRUE              | \n",
       "| 10                 | brant.zimmerman    | 1190KAREN5572497   | 16                 | FALSE              | FALSE              | FALSE              | brant              | zimmerman          | FALSE              | 2                  | FALSE              | FALSE              | \n",
       "| 11                 | leanna.abbott      | aivlys24           |  8                 | FALSE              | FALSE              | FALSE              | leanna             | abbott             | FALSE              | 1                  | FALSE              | FALSE              | \n",
       "| 12                 | milford.hubbard    | hubbard            |  7                 |  TRUE              | FALSE              | FALSE              | milford            | hubbard            |  TRUE              | 2                  | FALSE              |  TRUE              | \n",
       "| 13                 | mamie.fox          | mitonguito         | 10                 | FALSE              | FALSE              | FALSE              | mamie              | fox                | FALSE              | 1                  | FALSE              | FALSE              | \n",
       "| 14                 | jamie.cochran      | 310356             |  6                 |  TRUE              | FALSE              | FALSE              | jamie              | cochran            | FALSE              | 1                  | FALSE              |  TRUE              | \n",
       "| 15                 | nathaniel.robinson | angelmajo          |  9                 | FALSE              | FALSE              | FALSE              | nathaniel          | robinson           | FALSE              | 1                  | FALSE              | FALSE              | \n",
       "| 16                 | lorrie.gay         | oZ4k0QE            |  7                 |  TRUE              | FALSE              | FALSE              | lorrie             | gay                | FALSE              | 1                  | FALSE              |  TRUE              | \n",
       "| 17                 | domingo.dyer       | chelsea            |  7                 |  TRUE              |  TRUE              |  TRUE              | domingo            | dyer               | FALSE              | 1                  | FALSE              |  TRUE              | \n",
       "| 18                 | martin.pacheco     | zvc1939            |  7                 |  TRUE              | FALSE              | FALSE              | martin             | pacheco            | FALSE              | 1                  | FALSE              |  TRUE              | \n",
       "| 19                 | shelby.massey      | nickgd             |  6                 |  TRUE              | FALSE              | FALSE              | shelby             | massey             | FALSE              | 1                  | FALSE              |  TRUE              | \n",
       "| 20                 | rosella.barrett    | O2gv3LlcfG         | 10                 | FALSE              | FALSE              | FALSE              | rosella            | barrett            | FALSE              | 1                  | FALSE              | FALSE              | \n",
       "| 21                 | karina.morton      | dada4943           |  8                 | FALSE              | FALSE              | FALSE              | karina             | morton             | FALSE              | 1                  | FALSE              | FALSE              | \n",
       "| 22                 | leticia.sanford    | cocacola           |  8                 | FALSE              |  TRUE              | FALSE              | leticia            | sanford            | FALSE              | 1                  | FALSE              |  TRUE              | \n",
       "| 23                 | jenny.woodard      | woodard            |  7                 |  TRUE              | FALSE              | FALSE              | jenny              | woodard            |  TRUE              | 2                  | FALSE              |  TRUE              | \n",
       "| 24                 | brandie.webster    | sentry31           |  8                 | FALSE              | FALSE              | FALSE              | brandie            | webster            | FALSE              | 1                  | FALSE              | FALSE              | \n",
       "| 25                 | sabrina.suarez     | OTEL3Q0D8y         | 10                 | FALSE              | FALSE              | FALSE              | sabrina            | suarez             | FALSE              | 1                  | FALSE              | FALSE              | \n",
       "| 26                 | dianna.munoz       | AJ9Da              |  5                 |  TRUE              | FALSE              | FALSE              | dianna             | munoz              | FALSE              | 1                  | FALSE              |  TRUE              | \n",
       "| 27                 | julia.savage       | ewokzs             |  6                 |  TRUE              | FALSE              | FALSE              | julia              | savage             | FALSE              | 1                  | FALSE              |  TRUE              | \n",
       "| 28                 | loretta.bass       | WvNV1aKyFEcPe      | 13                 | FALSE              | FALSE              | FALSE              | loretta            | bass               | FALSE              | 1                  | FALSE              | FALSE              | \n",
       "| 29                 | joaquin.walters    | YyGjz8E            |  7                 |  TRUE              | FALSE              | FALSE              | joaquin            | walters            | FALSE              | 1                  | FALSE              |  TRUE              | \n",
       "| 30                 | rene.small         | toreze00           |  8                 | FALSE              | FALSE              | FALSE              | rene               | small              | FALSE              | 2                  | FALSE              | FALSE              | \n",
       "| ... | ... | ... | ... | ... | ... | ... | ... | ... | ... | ... | ... | ... | \n",
       "|  71                | bonita.morin       | owlsclassrule      | 13                 | FALSE              | FALSE              | FALSE              | bonita             | morin              | FALSE              | 2                  | FALSE              | FALSE              | \n",
       "|  72                | lena.mckay         | FvSTWdon8sM        | 11                 | FALSE              | FALSE              | FALSE              | lena               | mckay              | FALSE              | 1                  | FALSE              | FALSE              | \n",
       "|  73                | mona.frederick     | 1905bokyta13!      | 13                 | FALSE              | FALSE              | FALSE              | mona               | frederick          | FALSE              | 1                  | FALSE              | FALSE              | \n",
       "|  74                | john.battle        | 2doitmyway         | 10                 | FALSE              | FALSE              | FALSE              | john               | battle             | FALSE              | 1                  | FALSE              | FALSE              | \n",
       "|  75                | bud.knox           | k_lovely           |  8                 | FALSE              | FALSE              | FALSE              | bud                | knox               | FALSE              | 1                  | FALSE              | FALSE              | \n",
       "|  76                | tomas.gallegos     | ytJWHZlVg8         | 10                 | FALSE              | FALSE              | FALSE              | tomas              | gallegos           | FALSE              | 1                  | FALSE              | FALSE              | \n",
       "|  77                | emerson.caldwell   | JAMARIAN           |  8                 | FALSE              | FALSE              | FALSE              | emerson            | caldwell           | FALSE              | 1                  | FALSE              | FALSE              | \n",
       "|  78                | carmelo.sherman    | XbWex62oflJAN0n    | 15                 | FALSE              | FALSE              | FALSE              | carmelo            | sherman            | FALSE              | 1                  | FALSE              | FALSE              | \n",
       "|  79                | roland.mcgee       | thx1138            |  7                 |  TRUE              |  TRUE              | FALSE              | roland             | mcgee              | FALSE              | 2                  | FALSE              |  TRUE              | \n",
       "|  80                | courtney.conner    | 023895768          |  9                 | FALSE              | FALSE              | FALSE              | courtney           | conner             | FALSE              | 1                  | FALSE              | FALSE              | \n",
       "|  81                | maggie.willis      | sixthlilc          |  9                 | FALSE              | FALSE              | FALSE              | maggie             | willis             | FALSE              | 1                  | FALSE              | FALSE              | \n",
       "|  82                | seymour.ball       | midnight           |  8                 | FALSE              |  TRUE              |  TRUE              | seymour            | ball               | FALSE              | 1                  | FALSE              |  TRUE              | \n",
       "|  83                | consuelo.gibbs     | V2moUlCRzrON       | 12                 | FALSE              | FALSE              | FALSE              | consuelo           | gibbs              | FALSE              | 1                  | FALSE              | FALSE              | \n",
       "|  84                | nathaniel.dotson   | 7xFHcdy            |  7                 |  TRUE              | FALSE              | FALSE              | nathaniel          | dotson             | FALSE              | 1                  | FALSE              |  TRUE              | \n",
       "|  85                | dorian.caldwell    | dorian             |  6                 |  TRUE              |  TRUE              | FALSE              | dorian             | caldwell           |  TRUE              | 1                  | FALSE              |  TRUE              | \n",
       "|  86                | florine.gibson     | kvc3zLjTg          |  9                 | FALSE              | FALSE              | FALSE              | florine            | gibson             | FALSE              | 1                  | FALSE              | FALSE              | \n",
       "|  87                | saundra.king       | jimjordan          |  9                 | FALSE              | FALSE              | FALSE              | saundra            | king               | FALSE              | 1                  | FALSE              | FALSE              | \n",
       "|  88                | emilia.hurley      | 2458098            |  7                 |  TRUE              | FALSE              | FALSE              | emilia             | hurley             | FALSE              | 1                  | FALSE              |  TRUE              | \n",
       "|  89                | ira.cortez         | mmommy22           |  8                 | FALSE              | FALSE              | FALSE              | ira                | cortez             | FALSE              | 2                  | FALSE              | FALSE              | \n",
       "|  90                | jordan.hurley      | hurley             |  6                 |  TRUE              |  TRUE              | FALSE              | jordan             | hurley             |  TRUE              | 1                  | FALSE              |  TRUE              | \n",
       "|  91                | sheryl.ross        | PEOPLESUC9         | 10                 | FALSE              | FALSE              | FALSE              | sheryl             | ross               | FALSE              | 1                  | FALSE              | FALSE              | \n",
       "|  92                | romeo.gibson       | UYHUGG             |  6                 |  TRUE              | FALSE              | FALSE              | romeo              | gibson             | FALSE              | 2                  | FALSE              |  TRUE              | \n",
       "|  93                | marguerite.hunter  | wishes             |  6                 |  TRUE              | FALSE              |  TRUE              | marguerite         | hunter             | FALSE              | 1                  | FALSE              |  TRUE              | \n",
       "|  94                | alexis.mccullough  | D2FBkOXgW          |  9                 | FALSE              | FALSE              | FALSE              | alexis             | mccullough         | FALSE              | 1                  | FALSE              | FALSE              | \n",
       "|  95                | loren.crosby       | 9u21kgWMS5xsJQr    | 15                 | FALSE              | FALSE              | FALSE              | loren              | crosby             | FALSE              | 1                  | FALSE              | FALSE              | \n",
       "|  96                | goldie.puckett     | jake145            |  7                 |  TRUE              | FALSE              | FALSE              | goldie             | puckett            | FALSE              | 1                  | FALSE              |  TRUE              | \n",
       "|  97                | glen.guerra        | 0177175959         | 10                 | FALSE              | FALSE              | FALSE              | glen               | guerra             | FALSE              | 2                  | FALSE              | FALSE              | \n",
       "|  98                | trinidad.rodriquez | Oli#2b             |  6                 |  TRUE              | FALSE              | FALSE              | trinidad           | rodriquez          | FALSE              | 1                  | FALSE              |  TRUE              | \n",
       "|  99                | kimberly.lawson    | dow071san301       | 12                 | FALSE              | FALSE              | FALSE              | kimberly           | lawson             | FALSE              | 1                  | FALSE              | FALSE              | \n",
       "| 100                | jeanne.battle      | navidad69          |  9                 | FALSE              | FALSE              | FALSE              | jeanne             | battle             | FALSE              | 1                  | FALSE              | FALSE              | \n",
       "\n",
       "\n"
      ],
      "text/plain": [
       "    id  user_name          password         length too_short common_password\n",
       "1    1  vance.jennings     joobheco          8     FALSE     FALSE          \n",
       "2    2  consuelo.eaton     0869347314       10     FALSE     FALSE          \n",
       "3    3  mitchel.perkins    fabypotter       10     FALSE     FALSE          \n",
       "4    4  odessa.vaughan     aharney88         9     FALSE     FALSE          \n",
       "5    5  araceli.wilder     acecdn3000       10     FALSE     FALSE          \n",
       "6    6  shawn.harrington   5278049           7      TRUE     FALSE          \n",
       "7    7  evelyn.gay         master            6      TRUE      TRUE          \n",
       "8    8  noreen.hale        murphy            6      TRUE      TRUE          \n",
       "9    9  gladys.ward        lwsves2           7      TRUE     FALSE          \n",
       "10  10  brant.zimmerman    1190KAREN5572497 16     FALSE     FALSE          \n",
       "11  11  leanna.abbott      aivlys24          8     FALSE     FALSE          \n",
       "12  12  milford.hubbard    hubbard           7      TRUE     FALSE          \n",
       "13  13  mamie.fox          mitonguito       10     FALSE     FALSE          \n",
       "14  14  jamie.cochran      310356            6      TRUE     FALSE          \n",
       "15  15  nathaniel.robinson angelmajo         9     FALSE     FALSE          \n",
       "16  16  lorrie.gay         oZ4k0QE           7      TRUE     FALSE          \n",
       "17  17  domingo.dyer       chelsea           7      TRUE      TRUE          \n",
       "18  18  martin.pacheco     zvc1939           7      TRUE     FALSE          \n",
       "19  19  shelby.massey      nickgd            6      TRUE     FALSE          \n",
       "20  20  rosella.barrett    O2gv3LlcfG       10     FALSE     FALSE          \n",
       "21  21  karina.morton      dada4943          8     FALSE     FALSE          \n",
       "22  22  leticia.sanford    cocacola          8     FALSE      TRUE          \n",
       "23  23  jenny.woodard      woodard           7      TRUE     FALSE          \n",
       "24  24  brandie.webster    sentry31          8     FALSE     FALSE          \n",
       "25  25  sabrina.suarez     OTEL3Q0D8y       10     FALSE     FALSE          \n",
       "26  26  dianna.munoz       AJ9Da             5      TRUE     FALSE          \n",
       "27  27  julia.savage       ewokzs            6      TRUE     FALSE          \n",
       "28  28  loretta.bass       WvNV1aKyFEcPe    13     FALSE     FALSE          \n",
       "29  29  joaquin.walters    YyGjz8E           7      TRUE     FALSE          \n",
       "30  30  rene.small         toreze00          8     FALSE     FALSE          \n",
       "... ... ...                ...              ...    ...       ...            \n",
       "71   71 bonita.morin       owlsclassrule    13     FALSE     FALSE          \n",
       "72   72 lena.mckay         FvSTWdon8sM      11     FALSE     FALSE          \n",
       "73   73 mona.frederick     1905bokyta13!    13     FALSE     FALSE          \n",
       "74   74 john.battle        2doitmyway       10     FALSE     FALSE          \n",
       "75   75 bud.knox           k_lovely          8     FALSE     FALSE          \n",
       "76   76 tomas.gallegos     ytJWHZlVg8       10     FALSE     FALSE          \n",
       "77   77 emerson.caldwell   JAMARIAN          8     FALSE     FALSE          \n",
       "78   78 carmelo.sherman    XbWex62oflJAN0n  15     FALSE     FALSE          \n",
       "79   79 roland.mcgee       thx1138           7      TRUE      TRUE          \n",
       "80   80 courtney.conner    023895768         9     FALSE     FALSE          \n",
       "81   81 maggie.willis      sixthlilc         9     FALSE     FALSE          \n",
       "82   82 seymour.ball       midnight          8     FALSE      TRUE          \n",
       "83   83 consuelo.gibbs     V2moUlCRzrON     12     FALSE     FALSE          \n",
       "84   84 nathaniel.dotson   7xFHcdy           7      TRUE     FALSE          \n",
       "85   85 dorian.caldwell    dorian            6      TRUE      TRUE          \n",
       "86   86 florine.gibson     kvc3zLjTg         9     FALSE     FALSE          \n",
       "87   87 saundra.king       jimjordan         9     FALSE     FALSE          \n",
       "88   88 emilia.hurley      2458098           7      TRUE     FALSE          \n",
       "89   89 ira.cortez         mmommy22          8     FALSE     FALSE          \n",
       "90   90 jordan.hurley      hurley            6      TRUE      TRUE          \n",
       "91   91 sheryl.ross        PEOPLESUC9       10     FALSE     FALSE          \n",
       "92   92 romeo.gibson       UYHUGG            6      TRUE     FALSE          \n",
       "93   93 marguerite.hunter  wishes            6      TRUE     FALSE          \n",
       "94   94 alexis.mccullough  D2FBkOXgW         9     FALSE     FALSE          \n",
       "95   95 loren.crosby       9u21kgWMS5xsJQr  15     FALSE     FALSE          \n",
       "96   96 goldie.puckett     jake145           7      TRUE     FALSE          \n",
       "97   97 glen.guerra        0177175959       10     FALSE     FALSE          \n",
       "98   98 trinidad.rodriquez Oli#2b            6      TRUE     FALSE          \n",
       "99   99 kimberly.lawson    dow071san301     12     FALSE     FALSE          \n",
       "100 100 jeanne.battle      navidad69         9     FALSE     FALSE          \n",
       "    common_word first_name last_name  uses_name max_repeats too_many_repeats\n",
       "1   FALSE       vance      jennings   FALSE     2           FALSE           \n",
       "2   FALSE       consuelo   eaton      FALSE     1           FALSE           \n",
       "3   FALSE       mitchel    perkins    FALSE     2           FALSE           \n",
       "4   FALSE       odessa     vaughan    FALSE     2           FALSE           \n",
       "5   FALSE       araceli    wilder     FALSE     3           FALSE           \n",
       "6   FALSE       shawn      harrington FALSE     1           FALSE           \n",
       "7    TRUE       evelyn     gay        FALSE     1           FALSE           \n",
       "8    TRUE       noreen     hale       FALSE     1           FALSE           \n",
       "9   FALSE       gladys     ward       FALSE     1           FALSE           \n",
       "10  FALSE       brant      zimmerman  FALSE     2           FALSE           \n",
       "11  FALSE       leanna     abbott     FALSE     1           FALSE           \n",
       "12  FALSE       milford    hubbard     TRUE     2           FALSE           \n",
       "13  FALSE       mamie      fox        FALSE     1           FALSE           \n",
       "14  FALSE       jamie      cochran    FALSE     1           FALSE           \n",
       "15  FALSE       nathaniel  robinson   FALSE     1           FALSE           \n",
       "16  FALSE       lorrie     gay        FALSE     1           FALSE           \n",
       "17   TRUE       domingo    dyer       FALSE     1           FALSE           \n",
       "18  FALSE       martin     pacheco    FALSE     1           FALSE           \n",
       "19  FALSE       shelby     massey     FALSE     1           FALSE           \n",
       "20  FALSE       rosella    barrett    FALSE     1           FALSE           \n",
       "21  FALSE       karina     morton     FALSE     1           FALSE           \n",
       "22  FALSE       leticia    sanford    FALSE     1           FALSE           \n",
       "23  FALSE       jenny      woodard     TRUE     2           FALSE           \n",
       "24  FALSE       brandie    webster    FALSE     1           FALSE           \n",
       "25  FALSE       sabrina    suarez     FALSE     1           FALSE           \n",
       "26  FALSE       dianna     munoz      FALSE     1           FALSE           \n",
       "27  FALSE       julia      savage     FALSE     1           FALSE           \n",
       "28  FALSE       loretta    bass       FALSE     1           FALSE           \n",
       "29  FALSE       joaquin    walters    FALSE     1           FALSE           \n",
       "30  FALSE       rene       small      FALSE     2           FALSE           \n",
       "... ...         ...        ...        ...       ...         ...             \n",
       "71  FALSE       bonita     morin      FALSE     2           FALSE           \n",
       "72  FALSE       lena       mckay      FALSE     1           FALSE           \n",
       "73  FALSE       mona       frederick  FALSE     1           FALSE           \n",
       "74  FALSE       john       battle     FALSE     1           FALSE           \n",
       "75  FALSE       bud        knox       FALSE     1           FALSE           \n",
       "76  FALSE       tomas      gallegos   FALSE     1           FALSE           \n",
       "77  FALSE       emerson    caldwell   FALSE     1           FALSE           \n",
       "78  FALSE       carmelo    sherman    FALSE     1           FALSE           \n",
       "79  FALSE       roland     mcgee      FALSE     2           FALSE           \n",
       "80  FALSE       courtney   conner     FALSE     1           FALSE           \n",
       "81  FALSE       maggie     willis     FALSE     1           FALSE           \n",
       "82   TRUE       seymour    ball       FALSE     1           FALSE           \n",
       "83  FALSE       consuelo   gibbs      FALSE     1           FALSE           \n",
       "84  FALSE       nathaniel  dotson     FALSE     1           FALSE           \n",
       "85  FALSE       dorian     caldwell    TRUE     1           FALSE           \n",
       "86  FALSE       florine    gibson     FALSE     1           FALSE           \n",
       "87  FALSE       saundra    king       FALSE     1           FALSE           \n",
       "88  FALSE       emilia     hurley     FALSE     1           FALSE           \n",
       "89  FALSE       ira        cortez     FALSE     2           FALSE           \n",
       "90  FALSE       jordan     hurley      TRUE     1           FALSE           \n",
       "91  FALSE       sheryl     ross       FALSE     1           FALSE           \n",
       "92  FALSE       romeo      gibson     FALSE     2           FALSE           \n",
       "93   TRUE       marguerite hunter     FALSE     1           FALSE           \n",
       "94  FALSE       alexis     mccullough FALSE     1           FALSE           \n",
       "95  FALSE       loren      crosby     FALSE     1           FALSE           \n",
       "96  FALSE       goldie     puckett    FALSE     1           FALSE           \n",
       "97  FALSE       glen       guerra     FALSE     2           FALSE           \n",
       "98  FALSE       trinidad   rodriquez  FALSE     1           FALSE           \n",
       "99  FALSE       kimberly   lawson     FALSE     1           FALSE           \n",
       "100 FALSE       jeanne     battle     FALSE     1           FALSE           \n",
       "    bad_password\n",
       "1   FALSE       \n",
       "2   FALSE       \n",
       "3   FALSE       \n",
       "4   FALSE       \n",
       "5   FALSE       \n",
       "6    TRUE       \n",
       "7    TRUE       \n",
       "8    TRUE       \n",
       "9    TRUE       \n",
       "10  FALSE       \n",
       "11  FALSE       \n",
       "12   TRUE       \n",
       "13  FALSE       \n",
       "14   TRUE       \n",
       "15  FALSE       \n",
       "16   TRUE       \n",
       "17   TRUE       \n",
       "18   TRUE       \n",
       "19   TRUE       \n",
       "20  FALSE       \n",
       "21  FALSE       \n",
       "22   TRUE       \n",
       "23   TRUE       \n",
       "24  FALSE       \n",
       "25  FALSE       \n",
       "26   TRUE       \n",
       "27   TRUE       \n",
       "28  FALSE       \n",
       "29   TRUE       \n",
       "30  FALSE       \n",
       "... ...         \n",
       "71  FALSE       \n",
       "72  FALSE       \n",
       "73  FALSE       \n",
       "74  FALSE       \n",
       "75  FALSE       \n",
       "76  FALSE       \n",
       "77  FALSE       \n",
       "78  FALSE       \n",
       "79   TRUE       \n",
       "80  FALSE       \n",
       "81  FALSE       \n",
       "82   TRUE       \n",
       "83  FALSE       \n",
       "84   TRUE       \n",
       "85   TRUE       \n",
       "86  FALSE       \n",
       "87  FALSE       \n",
       "88   TRUE       \n",
       "89  FALSE       \n",
       "90   TRUE       \n",
       "91  FALSE       \n",
       "92   TRUE       \n",
       "93   TRUE       \n",
       "94  FALSE       \n",
       "95  FALSE       \n",
       "96   TRUE       \n",
       "97  FALSE       \n",
       "98   TRUE       \n",
       "99  FALSE       \n",
       "100 FALSE       "
      ]
     },
     "metadata": {},
     "output_type": "display_data"
    }
   ],
   "source": [
    "# Flagging all passwords that are bad\n",
    "users$bad_password <- users$too_short | users$common_password | users$common_word | users$uses_name | users$too_many_repeats\n",
    "\n",
    "# Counting the number of bad passwords\n",
    "sum(users$bad_password)\n",
    "\n",
    "# Looking at the first 100 bad passwords\n",
    "head(users, n = 100)"
   ]
  },
  {
   "cell_type": "markdown",
   "metadata": {
    "dc": {
     "key": "59"
    },
    "deletable": false,
    "editable": false,
    "run_control": {
     "frozen": true
    },
    "tags": [
     "context"
    ]
   },
   "source": [
    "## 9. Otherwise, the password should be up to the user\n",
    "<p>In this notebook, we've implemented the password checks recommended by the NIST Special Publication 800-63B. It's certainly possible to better implement these checks, for example, by using a longer list of common passwords. Also note that the NIST checks in no way guarantee that a chosen password is good, just that it's not obviously bad.</p>\n",
    "<p>Apart from the checks we've implemented above the NIST is also clear with what password rules should <em>not</em> be imposed:</p>\n",
    "<blockquote>\n",
    "  <p>Verifiers SHOULD NOT impose other composition rules (e.g., requiring mixtures of different character types or prohibiting consecutively repeated characters) for memorized secrets. Verifiers SHOULD NOT require memorized secrets to be changed arbitrarily (e.g., periodically).</p>\n",
    "</blockquote>\n",
    "<p>So the next time a website or app tells you to \"include both a number, symbol and an upper and lower case character in your password\" you should send them a copy of <a href=\"https://pages.nist.gov/800-63-3/sp800-63b.html\">NIST Special Publication 800-63B</a>.</p>"
   ]
  }
 ],
 "metadata": {
  "kernelspec": {
   "display_name": "R",
   "language": "R",
   "name": "ir"
  },
  "language_info": {
   "codemirror_mode": "r",
   "file_extension": ".r",
   "mimetype": "text/x-r-source",
   "name": "R",
   "pygments_lexer": "r",
   "version": "3.4.1"
  }
 },
 "nbformat": 4,
 "nbformat_minor": 2
}
